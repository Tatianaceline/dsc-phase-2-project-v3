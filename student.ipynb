{
 "cells": [
  {
   "cell_type": "markdown",
   "metadata": {},
   "source": [
    "## Final Project Submission\n",
    "\n",
    "Please fill out:\n",
    "* Student name: TATIANA CELINE TEMBA\n",
    "* Student pace: full time\n",
    "* Scheduled project review date/time: \n",
    "* Instructor name: Antonny Muiko\n",
<<<<<<< HEAD
<<<<<<< HEAD
    "* Blog post URL: https://github.com/Tatianaceline/dsc-phase-2-project-v3/blob/main/student.ipynb\n"
=======
    "* Blog post URL: https://github.com/Tatianaceline/dsc-phase-2-project-v3/edit/main/student.ipynb\n"
>>>>>>> 2b878321a25d99f6fa7ec7b4d3fbf88e51d47940
=======
    "* Blog post URL:\n"
>>>>>>> 833dbe5c621c2a2b080a4f73e60462108eaae0d7
   ]
  },
  {
   "cell_type": "markdown",
   "metadata": {},
   "source": [
    "## PROJECT DESCRIPTION\n",
    "Analyzing Box Office Success for a New Movie Studio\n",
    "\n",
    "## Project Overview\n",
    "\n",
    "As the entertainment industry increasingly embraces original video content, our company is eager to enter the market by establishing a new movie studio. However, with limited knowledge of film production, the studio requires strategic guidance to ensure its success. This project aims to analyze the current trends in the movie industry, focusing on identifying the types of films that perform best at the box office. The insights gained will provide actionable recommendations to help the studio make informed decisions about the genres and features to prioritize in its film production.\n",
    "\n",
    "## Business Problem\n",
    "\n",
    "The primary challenge is to determine the key factors that contribute to a movie's box office success. By understanding these factors, the studio can better position itself in the competitive market, choosing genres and movie elements that resonate with audiences and maximize revenue.\n",
    "\n",
    "## Data Sources\n",
    "\n",
    "To address this challenge, we will analyze data from several sources:\n",
    "\n",
    "1. Box Office Mojo\n",
    "2. IMDB\n",
    "3. Rotten Tomatoes \n",
    "4. TheMovieDB\n",
    "5. The Numbers\n",
    "\n",
    "## Analysis Objectives\n",
    "\n",
    "The analysis will focus on the following key questions:\n",
    "1. Which genres are the most popular and profitable?\n",
    "2. What are the trends in box office revenue over the years?\n",
    "3. What factors contribute to a movie's success?\n",
    "\n",
    "## Expected Outcomes and Recommendations\n",
    "\n",
    "The findings from this analysis will lead to three key business recommendations for the new movie studio:\n",
    "1. **Focus on High-Performing Genres**: Invest in genres that have shown consistent profitability and popularity among audiences.\n",
    "2. **Leverage Audience Ratings and Trends**: Use insights from audience ratings and preferences to guide the creative direction and marketing strategies.\n",
    "3. **Optimize Release Timing and Movie Features**: Consider optimal release times and key movie features, such as runtime and cast, to enhance the studio's appeal and market positioning."
   ]
  },
  {
   "cell_type": "markdown",
   "metadata": {},
   "source": [
    "# Importing necessary libraries"
   ]
  },
  {
   "cell_type": "code",
   "execution_count": 138,
   "metadata": {},
   "outputs": [],
   "source": [
    "import pandas as pd\n",
    "import numpy as np\n",
    "import sqlite3\n",
    "import matplotlib.pyplot as plt\n",
    "import seaborn as sns"
   ]
  },
  {
   "cell_type": "markdown",
   "metadata": {},
   "source": [
    "# Loading the Data"
   ]
  },
  {
   "cell_type": "code",
   "execution_count": 139,
   "metadata": {},
   "outputs": [
    {
     "name": "stdout",
     "output_type": "stream",
     "text": [
      "                                         title studio  domestic_gross  \\\n",
      "0                                  Toy Story 3     BV     415000000.0   \n",
      "1                   Alice in Wonderland (2010)     BV     334200000.0   \n",
      "2  Harry Potter and the Deathly Hallows Part 1     WB     296000000.0   \n",
      "3                                    Inception     WB     292600000.0   \n",
      "4                          Shrek Forever After   P/DW     238700000.0   \n",
      "\n",
      "  foreign_gross  year  \n",
      "0     652000000  2010  \n",
      "1     691300000  2010  \n",
      "2     664300000  2010  \n",
      "3     535700000  2010  \n",
      "4     513900000  2010  \n"
     ]
    }
   ],
   "source": [
    "# Load the datasets\n",
    "\n",
    "bom_df = pd.read_csv('zippedData/bom.movie_gross.csv.gz')\n",
    "\n",
    "print(bom_df.head())"
   ]
  },
  {
   "cell_type": "code",
   "execution_count": 140,
   "metadata": {},
   "outputs": [
    {
     "name": "stdout",
     "output_type": "stream",
     "text": [
      "   Unnamed: 0            genre_ids     id original_language  \\\n",
      "0           0      [12, 14, 10751]  12444                en   \n",
      "1           1  [14, 12, 16, 10751]  10191                en   \n",
      "2           2        [12, 28, 878]  10138                en   \n",
      "3           3      [16, 35, 10751]    862                en   \n",
      "4           4        [28, 878, 12]  27205                en   \n",
      "\n",
      "                                 original_title  popularity release_date  \\\n",
      "0  Harry Potter and the Deathly Hallows: Part 1      33.533   2010-11-19   \n",
      "1                      How to Train Your Dragon      28.734   2010-03-26   \n",
      "2                                    Iron Man 2      28.515   2010-05-07   \n",
      "3                                     Toy Story      28.005   1995-11-22   \n",
      "4                                     Inception      27.920   2010-07-16   \n",
      "\n",
      "                                          title  vote_average  vote_count  \n",
      "0  Harry Potter and the Deathly Hallows: Part 1           7.7       10788  \n",
      "1                      How to Train Your Dragon           7.7        7610  \n",
      "2                                    Iron Man 2           6.8       12368  \n",
      "3                                     Toy Story           7.9       10174  \n",
      "4                                     Inception           8.3       22186  \n"
     ]
    }
   ],
   "source": [
    "tmdb_df = pd.read_csv('zippedData/tmdb.movies.csv.gz')\n",
    "\n",
    "print(tmdb_df.head())"
   ]
  },
  {
   "cell_type": "code",
   "execution_count": 141,
   "metadata": {},
   "outputs": [
    {
     "name": "stdout",
     "output_type": "stream",
     "text": [
      "   id  release_date                                        movie  \\\n",
      "0   1  Dec 18, 2009                                       Avatar   \n",
      "1   2  May 20, 2011  Pirates of the Caribbean: On Stranger Tides   \n",
      "2   3   Jun 7, 2019                                 Dark Phoenix   \n",
      "3   4   May 1, 2015                      Avengers: Age of Ultron   \n",
      "4   5  Dec 15, 2017            Star Wars Ep. VIII: The Last Jedi   \n",
      "\n",
      "  production_budget domestic_gross worldwide_gross  \n",
      "0      $425,000,000   $760,507,625  $2,776,345,279  \n",
      "1      $410,600,000   $241,063,875  $1,045,663,875  \n",
      "2      $350,000,000    $42,762,350    $149,762,350  \n",
      "3      $330,600,000   $459,005,868  $1,403,013,963  \n",
      "4      $317,000,000   $620,181,382  $1,316,721,747  \n"
     ]
    }
   ],
   "source": [
    "tn_df = pd.read_csv('zippedData/tn.movie_budgets.csv.gz')\n",
    "\n",
    "print(tn_df.head())"
   ]
  },
  {
   "cell_type": "markdown",
   "metadata": {},
   "source": [
    "# Select relevant columns from each dataset\n",
    "Because the datasets have a wide variety of columns, some which I will not use, I have decided to circle out a few columns which will be necessart for my study."
   ]
  },
  {
   "cell_type": "code",
   "execution_count": 142,
   "metadata": {},
   "outputs": [
    {
     "data": {
      "text/plain": [
       "(                                         title studio  domestic_gross  \\\n",
       " 0                                  Toy Story 3     BV     415000000.0   \n",
       " 1                   Alice in Wonderland (2010)     BV     334200000.0   \n",
       " 2  Harry Potter and the Deathly Hallows Part 1     WB     296000000.0   \n",
       " 3                                    Inception     WB     292600000.0   \n",
       " 4                          Shrek Forever After   P/DW     238700000.0   \n",
       " \n",
       "   foreign_gross  \n",
       " 0     652000000  \n",
       " 1     691300000  \n",
       " 2     664300000  \n",
       " 3     535700000  \n",
       " 4     513900000  ,\n",
       "                                          movie production_budget  \\\n",
       " 0                                       Avatar      $425,000,000   \n",
       " 1  Pirates of the Caribbean: On Stranger Tides      $410,600,000   \n",
       " 2                                 Dark Phoenix      $350,000,000   \n",
       " 3                      Avengers: Age of Ultron      $330,600,000   \n",
       " 4            Star Wars Ep. VIII: The Last Jedi      $317,000,000   \n",
       " \n",
       "   worldwide_gross domestic_gross  \n",
       " 0  $2,776,345,279   $760,507,625  \n",
       " 1  $1,045,663,875   $241,063,875  \n",
       " 2    $149,762,350    $42,762,350  \n",
       " 3  $1,403,013,963   $459,005,868  \n",
       " 4  $1,316,721,747   $620,181,382  )"
      ]
     },
     "execution_count": 142,
     "metadata": {},
     "output_type": "execute_result"
    }
   ],
   "source": [
    "# Select relevant columns from each dataset\n",
    "bom_selected = bom_df[['title', 'studio', 'domestic_gross', 'foreign_gross']]\n",
    "tmdb_selected = tmdb_df[['title', 'popularity', 'vote_count', 'original_language']]\n",
    "tn_selected = tn_df[['movie', 'production_budget', 'worldwide_gross', 'domestic_gross']]\n",
    "\n",
    "# Display the first few rows of the selected DataFrames\n",
    "bom_selected.head(), tn_selected.head()"
   ]
  },
  {
   "cell_type": "markdown",
   "metadata": {},
   "source": [
    "# Renaming columns for consistency\n",
    "Here, we will rename the columns to allow a similarity so as to make it easier when merging the datasets after data cleaning."
   ]
  },
  {
   "cell_type": "code",
   "execution_count": 143,
   "metadata": {},
   "outputs": [
    {
     "data": {
      "text/plain": [
       "(                                         title studio  domestic_gross  \\\n",
       " 0                                  Toy Story 3     BV     415000000.0   \n",
       " 1                   Alice in Wonderland (2010)     BV     334200000.0   \n",
       " 2  Harry Potter and the Deathly Hallows Part 1     WB     296000000.0   \n",
       " 3                                    Inception     WB     292600000.0   \n",
       " 4                          Shrek Forever After   P/DW     238700000.0   \n",
       " \n",
       "   foreign_gross  \n",
       " 0     652000000  \n",
       " 1     691300000  \n",
       " 2     664300000  \n",
       " 3     535700000  \n",
       " 4     513900000  ,\n",
       "                                           title  popularity  vote_count  \\\n",
       " 0  Harry Potter and the Deathly Hallows: Part 1      33.533       10788   \n",
       " 1                      How to Train Your Dragon      28.734        7610   \n",
       " 2                                    Iron Man 2      28.515       12368   \n",
       " 3                                     Toy Story      28.005       10174   \n",
       " 4                                     Inception      27.920       22186   \n",
       " \n",
       "   original_language  \n",
       " 0                en  \n",
       " 1                en  \n",
       " 2                en  \n",
       " 3                en  \n",
       " 4                en  ,\n",
       "                                          title production_budget  \\\n",
       " 0                                       Avatar      $425,000,000   \n",
       " 1  Pirates of the Caribbean: On Stranger Tides      $410,600,000   \n",
       " 2                                 Dark Phoenix      $350,000,000   \n",
       " 3                      Avengers: Age of Ultron      $330,600,000   \n",
       " 4            Star Wars Ep. VIII: The Last Jedi      $317,000,000   \n",
       " \n",
       "   worldwide_gross domestic_gross  \n",
       " 0  $2,776,345,279   $760,507,625  \n",
       " 1  $1,045,663,875   $241,063,875  \n",
       " 2    $149,762,350    $42,762,350  \n",
       " 3  $1,403,013,963   $459,005,868  \n",
       " 4  $1,316,721,747   $620,181,382  )"
      ]
     },
     "execution_count": 143,
     "metadata": {},
     "output_type": "execute_result"
    }
   ],
   "source": [
    "# Renaming columns in bom and tn dataframes\n",
    "# bom_selected = bom_selected.rename(columns={'foreign_gross': 'worldwide_gross'})\n",
    "tn_selected = tn_selected.rename(columns={'movie': 'title'})\n",
    "\n",
    "# Display the first few rows of the selected DataFrames\n",
    "bom_selected.head(), tmdb_selected.head(), tn_selected.head()"
   ]
  },
  {
   "cell_type": "markdown",
   "metadata": {},
   "source": [
    "## CLEANING THE INDIVIDUAL DATASETS\n",
    "\n",
    "# 1. Bom dataframe"
   ]
  },
  {
   "cell_type": "markdown",
   "metadata": {},
   "source": [
    "Remove all Null Values that Read as 0"
   ]
  },
  {
   "cell_type": "code",
   "execution_count": 144,
   "metadata": {},
   "outputs": [
    {
     "data": {
      "text/html": [
       "<div>\n",
       "<style scoped>\n",
       "    .dataframe tbody tr th:only-of-type {\n",
       "        vertical-align: middle;\n",
       "    }\n",
       "\n",
       "    .dataframe tbody tr th {\n",
       "        vertical-align: top;\n",
       "    }\n",
       "\n",
       "    .dataframe thead th {\n",
       "        text-align: right;\n",
       "    }\n",
       "</style>\n",
       "<table border=\"1\" class=\"dataframe\">\n",
       "  <thead>\n",
       "    <tr style=\"text-align: right;\">\n",
       "      <th></th>\n",
       "      <th>title</th>\n",
       "      <th>studio</th>\n",
       "      <th>domestic_gross</th>\n",
       "      <th>foreign_gross</th>\n",
       "      <th>year</th>\n",
       "    </tr>\n",
       "  </thead>\n",
       "  <tbody>\n",
       "    <tr>\n",
       "      <th>0</th>\n",
       "      <td>Toy Story 3</td>\n",
       "      <td>BV</td>\n",
       "      <td>415000000.0</td>\n",
       "      <td>652000000</td>\n",
       "      <td>2010</td>\n",
       "    </tr>\n",
       "    <tr>\n",
       "      <th>1</th>\n",
       "      <td>Alice in Wonderland (2010)</td>\n",
       "      <td>BV</td>\n",
       "      <td>334200000.0</td>\n",
       "      <td>691300000</td>\n",
       "      <td>2010</td>\n",
       "    </tr>\n",
       "    <tr>\n",
       "      <th>2</th>\n",
       "      <td>Harry Potter and the Deathly Hallows Part 1</td>\n",
       "      <td>WB</td>\n",
       "      <td>296000000.0</td>\n",
       "      <td>664300000</td>\n",
       "      <td>2010</td>\n",
       "    </tr>\n",
       "    <tr>\n",
       "      <th>3</th>\n",
       "      <td>Inception</td>\n",
       "      <td>WB</td>\n",
       "      <td>292600000.0</td>\n",
       "      <td>535700000</td>\n",
       "      <td>2010</td>\n",
       "    </tr>\n",
       "    <tr>\n",
       "      <th>4</th>\n",
       "      <td>Shrek Forever After</td>\n",
       "      <td>P/DW</td>\n",
       "      <td>238700000.0</td>\n",
       "      <td>513900000</td>\n",
       "      <td>2010</td>\n",
       "    </tr>\n",
       "  </tbody>\n",
       "</table>\n",
       "</div>"
      ],
      "text/plain": [
       "                                         title studio  domestic_gross  \\\n",
       "0                                  Toy Story 3     BV     415000000.0   \n",
       "1                   Alice in Wonderland (2010)     BV     334200000.0   \n",
       "2  Harry Potter and the Deathly Hallows Part 1     WB     296000000.0   \n",
       "3                                    Inception     WB     292600000.0   \n",
       "4                          Shrek Forever After   P/DW     238700000.0   \n",
       "\n",
       "  foreign_gross  year  \n",
       "0     652000000  2010  \n",
       "1     691300000  2010  \n",
       "2     664300000  2010  \n",
       "3     535700000  2010  \n",
       "4     513900000  2010  "
      ]
     },
     "execution_count": 144,
     "metadata": {},
     "output_type": "execute_result"
    }
   ],
   "source": [
    "# Replace zeros with NaN in 'domestic_gross' and 'foreign_gross' columns\n",
    "bom_df['domestic_gross'] = bom_df['domestic_gross'].replace(0, pd.NA)\n",
    "bom_df['foreign_gross'] = bom_df['foreign_gross'].replace(0, pd.NA)\n",
    "\n",
    "# Drop rows with NaN values\n",
    "bom_df_cleaned = bom_df.dropna(subset=['domestic_gross', 'foreign_gross'])\n",
    "\n",
    "# Display the cleaned DataFrame\n",
    "bom_df_cleaned.head()"
   ]
  },
  {
   "cell_type": "markdown",
   "metadata": {},
   "source": [
    "Remove Commas from Numeric Values"
   ]
  },
  {
   "cell_type": "code",
   "execution_count": 145,
   "metadata": {},
   "outputs": [
    {
     "name": "stderr",
     "output_type": "stream",
     "text": [
      "<ipython-input-145-47a3c4b7aae7>:2: SettingWithCopyWarning: \n",
      "A value is trying to be set on a copy of a slice from a DataFrame.\n",
      "Try using .loc[row_indexer,col_indexer] = value instead\n",
      "\n",
      "See the caveats in the documentation: https://pandas.pydata.org/pandas-docs/stable/user_guide/indexing.html#returning-a-view-versus-a-copy\n",
      "  bom_df_cleaned['domestic_gross'] = bom_df_cleaned['domestic_gross'].replace('[,]', '', regex=True)\n",
      "<ipython-input-145-47a3c4b7aae7>:3: SettingWithCopyWarning: \n",
      "A value is trying to be set on a copy of a slice from a DataFrame.\n",
      "Try using .loc[row_indexer,col_indexer] = value instead\n",
      "\n",
      "See the caveats in the documentation: https://pandas.pydata.org/pandas-docs/stable/user_guide/indexing.html#returning-a-view-versus-a-copy\n",
      "  bom_df_cleaned['foreign_gross'] = bom_df_cleaned['foreign_gross'].replace('[,]', '', regex=True)\n"
     ]
    },
    {
     "data": {
      "text/html": [
       "<div>\n",
       "<style scoped>\n",
       "    .dataframe tbody tr th:only-of-type {\n",
       "        vertical-align: middle;\n",
       "    }\n",
       "\n",
       "    .dataframe tbody tr th {\n",
       "        vertical-align: top;\n",
       "    }\n",
       "\n",
       "    .dataframe thead th {\n",
       "        text-align: right;\n",
       "    }\n",
       "</style>\n",
       "<table border=\"1\" class=\"dataframe\">\n",
       "  <thead>\n",
       "    <tr style=\"text-align: right;\">\n",
       "      <th></th>\n",
       "      <th>title</th>\n",
       "      <th>studio</th>\n",
       "      <th>domestic_gross</th>\n",
       "      <th>foreign_gross</th>\n",
       "      <th>year</th>\n",
       "    </tr>\n",
       "  </thead>\n",
       "  <tbody>\n",
       "    <tr>\n",
       "      <th>0</th>\n",
       "      <td>Toy Story 3</td>\n",
       "      <td>BV</td>\n",
       "      <td>415000000.0</td>\n",
       "      <td>652000000</td>\n",
       "      <td>2010</td>\n",
       "    </tr>\n",
       "    <tr>\n",
       "      <th>1</th>\n",
       "      <td>Alice in Wonderland (2010)</td>\n",
       "      <td>BV</td>\n",
       "      <td>334200000.0</td>\n",
       "      <td>691300000</td>\n",
       "      <td>2010</td>\n",
       "    </tr>\n",
       "    <tr>\n",
       "      <th>2</th>\n",
       "      <td>Harry Potter and the Deathly Hallows Part 1</td>\n",
       "      <td>WB</td>\n",
       "      <td>296000000.0</td>\n",
       "      <td>664300000</td>\n",
       "      <td>2010</td>\n",
       "    </tr>\n",
       "    <tr>\n",
       "      <th>3</th>\n",
       "      <td>Inception</td>\n",
       "      <td>WB</td>\n",
       "      <td>292600000.0</td>\n",
       "      <td>535700000</td>\n",
       "      <td>2010</td>\n",
       "    </tr>\n",
       "    <tr>\n",
       "      <th>4</th>\n",
       "      <td>Shrek Forever After</td>\n",
       "      <td>P/DW</td>\n",
       "      <td>238700000.0</td>\n",
       "      <td>513900000</td>\n",
       "      <td>2010</td>\n",
       "    </tr>\n",
       "  </tbody>\n",
       "</table>\n",
       "</div>"
      ],
      "text/plain": [
       "                                         title studio  domestic_gross  \\\n",
       "0                                  Toy Story 3     BV     415000000.0   \n",
       "1                   Alice in Wonderland (2010)     BV     334200000.0   \n",
       "2  Harry Potter and the Deathly Hallows Part 1     WB     296000000.0   \n",
       "3                                    Inception     WB     292600000.0   \n",
       "4                          Shrek Forever After   P/DW     238700000.0   \n",
       "\n",
       "  foreign_gross  year  \n",
       "0     652000000  2010  \n",
       "1     691300000  2010  \n",
       "2     664300000  2010  \n",
       "3     535700000  2010  \n",
       "4     513900000  2010  "
      ]
     },
     "execution_count": 145,
     "metadata": {},
     "output_type": "execute_result"
    }
   ],
   "source": [
    "# Remove commas from 'domestic_gross' and 'foreign_gross' columns\n",
    "bom_df_cleaned['domestic_gross'] = bom_df_cleaned['domestic_gross'].replace('[,]', '', regex=True)\n",
    "bom_df_cleaned['foreign_gross'] = bom_df_cleaned['foreign_gross'].replace('[,]', '', regex=True)\n",
    "\n",
    "# Display the cleaned DataFrame\n",
    "bom_df_cleaned.head()\n"
   ]
  },
  {
   "cell_type": "markdown",
   "metadata": {},
   "source": [
    "Convert Numeric Values into Shorter Float Values"
   ]
  },
  {
   "cell_type": "code",
   "execution_count": 146,
   "metadata": {},
   "outputs": [
    {
     "name": "stderr",
     "output_type": "stream",
     "text": [
      "c:\\Users\\USER\\anaconda3\\envs\\learn-env\\lib\\site-packages\\pandas\\core\\indexing.py:1745: SettingWithCopyWarning: \n",
      "A value is trying to be set on a copy of a slice from a DataFrame.\n",
      "Try using .loc[row_indexer,col_indexer] = value instead\n",
      "\n",
      "See the caveats in the documentation: https://pandas.pydata.org/pandas-docs/stable/user_guide/indexing.html#returning-a-view-versus-a-copy\n",
      "  isetter(ilocs[0], value)\n"
     ]
    },
    {
     "data": {
      "text/html": [
       "<div>\n",
       "<style scoped>\n",
       "    .dataframe tbody tr th:only-of-type {\n",
       "        vertical-align: middle;\n",
       "    }\n",
       "\n",
       "    .dataframe tbody tr th {\n",
       "        vertical-align: top;\n",
       "    }\n",
       "\n",
       "    .dataframe thead th {\n",
       "        text-align: right;\n",
       "    }\n",
       "</style>\n",
       "<table border=\"1\" class=\"dataframe\">\n",
       "  <thead>\n",
       "    <tr style=\"text-align: right;\">\n",
       "      <th></th>\n",
       "      <th>title</th>\n",
       "      <th>studio</th>\n",
       "      <th>domestic_gross</th>\n",
       "      <th>foreign_gross</th>\n",
       "      <th>year</th>\n",
       "    </tr>\n",
       "  </thead>\n",
       "  <tbody>\n",
       "    <tr>\n",
       "      <th>0</th>\n",
       "      <td>Toy Story 3</td>\n",
       "      <td>BV</td>\n",
       "      <td>415000000.0</td>\n",
       "      <td>652000000.0</td>\n",
       "      <td>2010</td>\n",
       "    </tr>\n",
       "    <tr>\n",
       "      <th>1</th>\n",
       "      <td>Alice in Wonderland (2010)</td>\n",
       "      <td>BV</td>\n",
       "      <td>334200000.0</td>\n",
       "      <td>691300000.0</td>\n",
       "      <td>2010</td>\n",
       "    </tr>\n",
       "    <tr>\n",
       "      <th>2</th>\n",
       "      <td>Harry Potter and the Deathly Hallows Part 1</td>\n",
       "      <td>WB</td>\n",
       "      <td>296000000.0</td>\n",
       "      <td>664300000.0</td>\n",
       "      <td>2010</td>\n",
       "    </tr>\n",
       "    <tr>\n",
       "      <th>3</th>\n",
       "      <td>Inception</td>\n",
       "      <td>WB</td>\n",
       "      <td>292600000.0</td>\n",
       "      <td>535700000.0</td>\n",
       "      <td>2010</td>\n",
       "    </tr>\n",
       "    <tr>\n",
       "      <th>4</th>\n",
       "      <td>Shrek Forever After</td>\n",
       "      <td>P/DW</td>\n",
       "      <td>238700000.0</td>\n",
       "      <td>513900000.0</td>\n",
       "      <td>2010</td>\n",
       "    </tr>\n",
       "  </tbody>\n",
       "</table>\n",
       "</div>"
      ],
      "text/plain": [
       "                                         title studio  domestic_gross  \\\n",
       "0                                  Toy Story 3     BV     415000000.0   \n",
       "1                   Alice in Wonderland (2010)     BV     334200000.0   \n",
       "2  Harry Potter and the Deathly Hallows Part 1     WB     296000000.0   \n",
       "3                                    Inception     WB     292600000.0   \n",
       "4                          Shrek Forever After   P/DW     238700000.0   \n",
       "\n",
       "   foreign_gross  year  \n",
       "0    652000000.0  2010  \n",
       "1    691300000.0  2010  \n",
       "2    664300000.0  2010  \n",
       "3    535700000.0  2010  \n",
       "4    513900000.0  2010  "
      ]
     },
     "execution_count": 146,
     "metadata": {},
     "output_type": "execute_result"
    }
   ],
   "source": [
    "# Convert numeric columns to shorter float values using .loc\n",
    "bom_df_cleaned.loc[:, 'domestic_gross'] = bom_df_cleaned['domestic_gross'].astype(float).round(2)\n",
    "bom_df_cleaned.loc[:, 'foreign_gross'] = bom_df_cleaned['foreign_gross'].astype(float).round(2)\n",
    "\n",
    "# Display the cleaned DataFrame\n",
    "bom_df_cleaned.head()"
   ]
  },
  {
   "cell_type": "markdown",
   "metadata": {},
   "source": [
    "# 2. TMDB dataframe"
   ]
  },
  {
   "cell_type": "markdown",
   "metadata": {},
   "source": [
    "Remove Rows with Null or Zero Values"
   ]
  },
  {
   "cell_type": "code",
   "execution_count": 147,
   "metadata": {},
   "outputs": [
    {
     "name": "stdout",
     "output_type": "stream",
     "text": [
      "                                          title  popularity  vote_count  \\\n",
      "0  Harry Potter and the Deathly Hallows: Part 1      33.533       10788   \n",
      "1                      How to Train Your Dragon      28.734        7610   \n",
      "2                                    Iron Man 2      28.515       12368   \n",
      "3                                     Toy Story      28.005       10174   \n",
      "4                                     Inception      27.920       22186   \n",
      "\n",
      "  original_language  \n",
      "0                en  \n",
      "1                en  \n",
      "2                en  \n",
      "3                en  \n",
      "4                en  \n"
     ]
    },
    {
     "name": "stderr",
     "output_type": "stream",
     "text": [
      "<ipython-input-147-69f57a27db67>:2: SettingWithCopyWarning: \n",
      "A value is trying to be set on a copy of a slice from a DataFrame.\n",
      "Try using .loc[row_indexer,col_indexer] = value instead\n",
      "\n",
      "See the caveats in the documentation: https://pandas.pydata.org/pandas-docs/stable/user_guide/indexing.html#returning-a-view-versus-a-copy\n",
      "  tmdb_selected['popularity'] = tmdb_selected['popularity'].replace(0, pd.NA)\n",
      "<ipython-input-147-69f57a27db67>:3: SettingWithCopyWarning: \n",
      "A value is trying to be set on a copy of a slice from a DataFrame.\n",
      "Try using .loc[row_indexer,col_indexer] = value instead\n",
      "\n",
      "See the caveats in the documentation: https://pandas.pydata.org/pandas-docs/stable/user_guide/indexing.html#returning-a-view-versus-a-copy\n",
      "  tmdb_selected['vote_count'] = tmdb_selected['vote_count'].replace(0, pd.NA)\n"
     ]
    }
   ],
   "source": [
    "# Replace zeros with NaN in 'popularity' and 'vote_count' columns\n",
    "tmdb_selected['popularity'] = tmdb_selected['popularity'].replace(0, pd.NA)\n",
    "tmdb_selected['vote_count'] = tmdb_selected['vote_count'].replace(0, pd.NA)\n",
    "\n",
    "# Drop rows with NaN values\n",
    "tmdb_cleaned = tmdb_selected.dropna(subset=['title', 'popularity', 'vote_count', 'original_language'])\n",
    "\n",
    "# Display the DataFrame after dropping rows with NaN values\n",
    "print(tmdb_cleaned.head())"
   ]
  },
  {
   "cell_type": "markdown",
   "metadata": {},
   "source": [
    "Remove Commas from Numeric Values"
   ]
  },
  {
   "cell_type": "code",
   "execution_count": 148,
   "metadata": {},
   "outputs": [
    {
     "name": "stdout",
     "output_type": "stream",
     "text": [
      "                                          title  popularity  vote_count  \\\n",
      "0  Harry Potter and the Deathly Hallows: Part 1      33.533       10788   \n",
      "1                      How to Train Your Dragon      28.734        7610   \n",
      "2                                    Iron Man 2      28.515       12368   \n",
      "3                                     Toy Story      28.005       10174   \n",
      "4                                     Inception      27.920       22186   \n",
      "\n",
      "  original_language  \n",
      "0                en  \n",
      "1                en  \n",
      "2                en  \n",
      "3                en  \n",
      "4                en  \n"
     ]
    }
   ],
   "source": [
    "# Remove commas from 'popularity' and 'vote_count' columns\n",
    "tmdb_cleaned['popularity'] = tmdb_cleaned['popularity'].replace('[,]', '', regex=True)\n",
    "tmdb_cleaned['vote_count'] = tmdb_cleaned['vote_count'].replace('[,]', '', regex=True)\n",
    "\n",
    "# Display the DataFrame after removing commas\n",
    "print(tmdb_cleaned.head())\n"
   ]
  },
  {
   "cell_type": "markdown",
   "metadata": {},
   "source": [
    "Convert Numeric Values into Shorter Float Values"
   ]
  },
  {
   "cell_type": "code",
   "execution_count": 149,
   "metadata": {},
   "outputs": [
    {
     "name": "stdout",
     "output_type": "stream",
     "text": [
      "                                          title  popularity  vote_count  \\\n",
      "0  Harry Potter and the Deathly Hallows: Part 1       33.53     10788.0   \n",
      "1                      How to Train Your Dragon       28.73      7610.0   \n",
      "2                                    Iron Man 2       28.52     12368.0   \n",
      "3                                     Toy Story       28.00     10174.0   \n",
      "4                                     Inception       27.92     22186.0   \n",
      "\n",
      "  original_language  \n",
      "0                en  \n",
      "1                en  \n",
      "2                en  \n",
      "3                en  \n",
      "4                en  \n"
     ]
    }
   ],
   "source": [
    "# Convert numeric columns to shorter float values\n",
    "tmdb_cleaned.loc[:, 'popularity'] = tmdb_cleaned['popularity'].astype(float).round(2)\n",
    "tmdb_cleaned.loc[:, 'vote_count'] = tmdb_cleaned['vote_count'].astype(float).round(2)\n",
    "\n",
    "# Display the final cleaned DataFrame\n",
    "print(tmdb_cleaned.head())"
   ]
  },
  {
   "cell_type": "markdown",
   "metadata": {},
   "source": [
    "# 3. TN dataframe"
   ]
  },
  {
   "cell_type": "markdown",
   "metadata": {},
   "source": [
    "Removing null values that read as 0"
   ]
  },
  {
   "cell_type": "code",
   "execution_count": 150,
   "metadata": {},
   "outputs": [
    {
     "data": {
      "text/html": [
       "<div>\n",
       "<style scoped>\n",
       "    .dataframe tbody tr th:only-of-type {\n",
       "        vertical-align: middle;\n",
       "    }\n",
       "\n",
       "    .dataframe tbody tr th {\n",
       "        vertical-align: top;\n",
       "    }\n",
       "\n",
       "    .dataframe thead th {\n",
       "        text-align: right;\n",
       "    }\n",
       "</style>\n",
       "<table border=\"1\" class=\"dataframe\">\n",
       "  <thead>\n",
       "    <tr style=\"text-align: right;\">\n",
       "      <th></th>\n",
       "      <th>id</th>\n",
       "      <th>release_date</th>\n",
       "      <th>movie</th>\n",
       "      <th>production_budget</th>\n",
       "      <th>domestic_gross</th>\n",
       "      <th>worldwide_gross</th>\n",
       "    </tr>\n",
       "  </thead>\n",
       "  <tbody>\n",
       "    <tr>\n",
       "      <th>0</th>\n",
       "      <td>1</td>\n",
       "      <td>Dec 18, 2009</td>\n",
       "      <td>Avatar</td>\n",
       "      <td>425000000.0</td>\n",
       "      <td>760507625.0</td>\n",
       "      <td>2.776345e+09</td>\n",
       "    </tr>\n",
       "    <tr>\n",
       "      <th>1</th>\n",
       "      <td>2</td>\n",
       "      <td>May 20, 2011</td>\n",
       "      <td>Pirates of the Caribbean: On Stranger Tides</td>\n",
       "      <td>410600000.0</td>\n",
       "      <td>241063875.0</td>\n",
       "      <td>1.045664e+09</td>\n",
       "    </tr>\n",
       "    <tr>\n",
       "      <th>2</th>\n",
       "      <td>3</td>\n",
       "      <td>Jun 7, 2019</td>\n",
       "      <td>Dark Phoenix</td>\n",
       "      <td>350000000.0</td>\n",
       "      <td>42762350.0</td>\n",
       "      <td>1.497624e+08</td>\n",
       "    </tr>\n",
       "    <tr>\n",
       "      <th>3</th>\n",
       "      <td>4</td>\n",
       "      <td>May 1, 2015</td>\n",
       "      <td>Avengers: Age of Ultron</td>\n",
       "      <td>330600000.0</td>\n",
       "      <td>459005868.0</td>\n",
       "      <td>1.403014e+09</td>\n",
       "    </tr>\n",
       "    <tr>\n",
       "      <th>4</th>\n",
       "      <td>5</td>\n",
       "      <td>Dec 15, 2017</td>\n",
       "      <td>Star Wars Ep. VIII: The Last Jedi</td>\n",
       "      <td>317000000.0</td>\n",
       "      <td>620181382.0</td>\n",
       "      <td>1.316722e+09</td>\n",
       "    </tr>\n",
       "  </tbody>\n",
       "</table>\n",
       "</div>"
      ],
      "text/plain": [
       "   id  release_date                                        movie  \\\n",
       "0   1  Dec 18, 2009                                       Avatar   \n",
       "1   2  May 20, 2011  Pirates of the Caribbean: On Stranger Tides   \n",
       "2   3   Jun 7, 2019                                 Dark Phoenix   \n",
       "3   4   May 1, 2015                      Avengers: Age of Ultron   \n",
       "4   5  Dec 15, 2017            Star Wars Ep. VIII: The Last Jedi   \n",
       "\n",
       "   production_budget  domestic_gross  worldwide_gross  \n",
       "0        425000000.0     760507625.0     2.776345e+09  \n",
       "1        410600000.0     241063875.0     1.045664e+09  \n",
       "2        350000000.0      42762350.0     1.497624e+08  \n",
       "3        330600000.0     459005868.0     1.403014e+09  \n",
       "4        317000000.0     620181382.0     1.316722e+09  "
      ]
     },
     "execution_count": 150,
     "metadata": {},
     "output_type": "execute_result"
    }
   ],
   "source": [
    "# Clean the 'production_budget', 'domestic_gross', and 'worldwide_gross' columns\n",
    "tn_df['production_budget'] = tn_df['production_budget'].replace('[\\$,]', '', regex=True).astype(float)\n",
    "tn_df['domestic_gross'] = tn_df['domestic_gross'].replace('[\\$,]', '', regex=True).astype(float)\n",
    "tn_df['worldwide_gross'] = tn_df['worldwide_gross'].replace('[\\$,]', '', regex=True).astype(float)\n",
    "\n",
    "# Replace zeros with NaN\n",
    "tn_df['production_budget'] = tn_df['production_budget'].replace(0, pd.NA)\n",
    "tn_df['domestic_gross'] = tn_df['domestic_gross'].replace(0, pd.NA)\n",
    "tn_df['worldwide_gross'] = tn_df['worldwide_gross'].replace(0, pd.NA)\n",
    "\n",
    "# Drop rows with NaN values\n",
    "tn_df_cleaned = tn_df.dropna(subset=['production_budget', 'domestic_gross', 'worldwide_gross'])\n",
    "\n",
    "# Display the cleaned DataFrame\n",
    "tn_df_cleaned.head()\n"
   ]
  },
  {
   "cell_type": "markdown",
   "metadata": {},
   "source": [
    "Removing commas from numeric values"
   ]
  },
  {
   "cell_type": "code",
   "execution_count": 151,
   "metadata": {},
   "outputs": [
    {
     "name": "stdout",
     "output_type": "stream",
     "text": [
      "   id  release_date                                        movie  \\\n",
      "0   1  Dec 18, 2009                                       Avatar   \n",
      "1   2  May 20, 2011  Pirates of the Caribbean: On Stranger Tides   \n",
      "2   3   Jun 7, 2019                                 Dark Phoenix   \n",
      "3   4   May 1, 2015                      Avengers: Age of Ultron   \n",
      "4   5  Dec 15, 2017            Star Wars Ep. VIII: The Last Jedi   \n",
      "\n",
      "   production_budget  domestic_gross  worldwide_gross  \n",
      "0        425000000.0     760507625.0     2.776345e+09  \n",
      "1        410600000.0     241063875.0     1.045664e+09  \n",
      "2        350000000.0      42762350.0     1.497624e+08  \n",
      "3        330600000.0     459005868.0     1.403014e+09  \n",
      "4        317000000.0     620181382.0     1.316722e+09  \n"
     ]
    },
    {
     "name": "stderr",
     "output_type": "stream",
     "text": [
      "c:\\Users\\USER\\anaconda3\\envs\\learn-env\\lib\\site-packages\\pandas\\core\\indexing.py:1745: SettingWithCopyWarning: \n",
      "A value is trying to be set on a copy of a slice from a DataFrame.\n",
      "Try using .loc[row_indexer,col_indexer] = value instead\n",
      "\n",
      "See the caveats in the documentation: https://pandas.pydata.org/pandas-docs/stable/user_guide/indexing.html#returning-a-view-versus-a-copy\n",
      "  isetter(ilocs[0], value)\n"
     ]
    }
   ],
   "source": [
    "# Remove commas from 'production_budget', 'domestic_gross', and 'worldwide_gross' columns\n",
    "tn_df_cleaned.loc[:, 'production_budget'] = tn_df_cleaned['production_budget'].replace('[,]', '', regex=True)\n",
    "tn_df_cleaned.loc[:, 'domestic_gross'] = tn_df_cleaned['domestic_gross'].replace('[,]', '', regex=True)\n",
    "tn_df_cleaned.loc[:, 'worldwide_gross'] = tn_df_cleaned['worldwide_gross'].replace('[,]', '', regex=True)\n",
    "\n",
    "# Display the cleaned DataFrame\n",
    "print(tn_df_cleaned.head())"
   ]
  },
  {
   "cell_type": "markdown",
   "metadata": {},
   "source": [
    "Convert Numeric Values into Shorter Float Values"
   ]
  },
  {
   "cell_type": "code",
   "execution_count": 152,
   "metadata": {},
   "outputs": [
    {
     "name": "stderr",
     "output_type": "stream",
     "text": [
      "c:\\Users\\USER\\anaconda3\\envs\\learn-env\\lib\\site-packages\\pandas\\core\\indexing.py:1745: SettingWithCopyWarning: \n",
      "A value is trying to be set on a copy of a slice from a DataFrame.\n",
      "Try using .loc[row_indexer,col_indexer] = value instead\n",
      "\n",
      "See the caveats in the documentation: https://pandas.pydata.org/pandas-docs/stable/user_guide/indexing.html#returning-a-view-versus-a-copy\n",
      "  isetter(ilocs[0], value)\n"
     ]
    },
    {
     "data": {
      "text/html": [
       "<div>\n",
       "<style scoped>\n",
       "    .dataframe tbody tr th:only-of-type {\n",
       "        vertical-align: middle;\n",
       "    }\n",
       "\n",
       "    .dataframe tbody tr th {\n",
       "        vertical-align: top;\n",
       "    }\n",
       "\n",
       "    .dataframe thead th {\n",
       "        text-align: right;\n",
       "    }\n",
       "</style>\n",
       "<table border=\"1\" class=\"dataframe\">\n",
       "  <thead>\n",
       "    <tr style=\"text-align: right;\">\n",
       "      <th></th>\n",
       "      <th>id</th>\n",
       "      <th>release_date</th>\n",
       "      <th>movie</th>\n",
       "      <th>production_budget</th>\n",
       "      <th>domestic_gross</th>\n",
       "      <th>worldwide_gross</th>\n",
       "    </tr>\n",
       "  </thead>\n",
       "  <tbody>\n",
       "    <tr>\n",
       "      <th>0</th>\n",
       "      <td>1</td>\n",
       "      <td>Dec 18, 2009</td>\n",
       "      <td>Avatar</td>\n",
       "      <td>425000000.0</td>\n",
       "      <td>760507625.0</td>\n",
       "      <td>2.776345e+09</td>\n",
       "    </tr>\n",
       "    <tr>\n",
       "      <th>1</th>\n",
       "      <td>2</td>\n",
       "      <td>May 20, 2011</td>\n",
       "      <td>Pirates of the Caribbean: On Stranger Tides</td>\n",
       "      <td>410600000.0</td>\n",
       "      <td>241063875.0</td>\n",
       "      <td>1.045664e+09</td>\n",
       "    </tr>\n",
       "    <tr>\n",
       "      <th>2</th>\n",
       "      <td>3</td>\n",
       "      <td>Jun 7, 2019</td>\n",
       "      <td>Dark Phoenix</td>\n",
       "      <td>350000000.0</td>\n",
       "      <td>42762350.0</td>\n",
       "      <td>1.497624e+08</td>\n",
       "    </tr>\n",
       "    <tr>\n",
       "      <th>3</th>\n",
       "      <td>4</td>\n",
       "      <td>May 1, 2015</td>\n",
       "      <td>Avengers: Age of Ultron</td>\n",
       "      <td>330600000.0</td>\n",
       "      <td>459005868.0</td>\n",
       "      <td>1.403014e+09</td>\n",
       "    </tr>\n",
       "    <tr>\n",
       "      <th>4</th>\n",
       "      <td>5</td>\n",
       "      <td>Dec 15, 2017</td>\n",
       "      <td>Star Wars Ep. VIII: The Last Jedi</td>\n",
       "      <td>317000000.0</td>\n",
       "      <td>620181382.0</td>\n",
       "      <td>1.316722e+09</td>\n",
       "    </tr>\n",
       "  </tbody>\n",
       "</table>\n",
       "</div>"
      ],
      "text/plain": [
       "   id  release_date                                        movie  \\\n",
       "0   1  Dec 18, 2009                                       Avatar   \n",
       "1   2  May 20, 2011  Pirates of the Caribbean: On Stranger Tides   \n",
       "2   3   Jun 7, 2019                                 Dark Phoenix   \n",
       "3   4   May 1, 2015                      Avengers: Age of Ultron   \n",
       "4   5  Dec 15, 2017            Star Wars Ep. VIII: The Last Jedi   \n",
       "\n",
       "   production_budget  domestic_gross  worldwide_gross  \n",
       "0        425000000.0     760507625.0     2.776345e+09  \n",
       "1        410600000.0     241063875.0     1.045664e+09  \n",
       "2        350000000.0      42762350.0     1.497624e+08  \n",
       "3        330600000.0     459005868.0     1.403014e+09  \n",
       "4        317000000.0     620181382.0     1.316722e+09  "
      ]
     },
     "execution_count": 152,
     "metadata": {},
     "output_type": "execute_result"
    }
   ],
   "source": [
    "# Convert numeric columns to shorter float values using .loc\n",
    "tn_df_cleaned.loc[:, 'production_budget'] = tn_df_cleaned['production_budget'].astype(float).round(2)\n",
    "tn_df_cleaned.loc[:, 'domestic_gross'] = tn_df_cleaned['domestic_gross'].astype(float).round(2)\n",
    "tn_df_cleaned.loc[:, 'worldwide_gross'] = tn_df_cleaned['worldwide_gross'].astype(float).round(2)\n",
    "\n",
    "# Display the cleaned DataFrame\n",
    "tn_df_cleaned.head()\n"
   ]
  },
  {
   "cell_type": "markdown",
   "metadata": {},
   "source": [
    "# Merging the datasets"
   ]
  },
  {
   "cell_type": "markdown",
   "metadata": {},
   "source": [
    "Merging Datasets and Storing in SQLite Database.\n",
    "\n",
    "In this section of the code, we are performing the following steps:\n",
    "\n",
    "Importing Necessary Libraries:\n",
    "\n",
    "We establish a connection to a SQLite database named bom.db using sqlite3.connect(\"bom.db\").\n",
    "A cursor object, cursor, is created to execute SQL commands.\n",
    "Creating Tables and Storing Data:\n",
    "\n",
    "The dataframes bom_selected, tn_selected, and tmdb_df are saved into the SQLite database as tables named 'bom', 'tn', and 'tmdb' respectively.\n",
    "\n",
    "The main purpose of these steps is to prepare the datasets for merging by storing them in a structured database format. This allows for efficient querying and merging of data across different tables using SQL commands. Once the tables are stored in the database, we can perform SQL queries to join these tables based on common keys, such as the movie title, to create a merged dataset that combines information from all three sources."
   ]
  },
  {
   "cell_type": "code",
   "execution_count": 153,
   "metadata": {},
   "outputs": [
    {
     "name": "stderr",
     "output_type": "stream",
     "text": [
      "c:\\Users\\USER\\anaconda3\\envs\\learn-env\\lib\\site-packages\\pandas\\core\\generic.py:2605: UserWarning: The spaces in these column names will not be changed. In pandas versions < 0.14, spaces were converted to underscores.\n",
      "  sql.to_sql(\n"
     ]
    }
   ],
   "source": [
    "# Import necessary libraries\n",
    "import sqlite3\n",
    "from sqlalchemy import create_engine\n",
    "\n",
    "# Create a SQLite database\n",
    "conn = sqlite3.connect(\"bom.db\")\n",
    "cursor = conn.cursor()\n",
    "\n",
    "# Create tables\n",
    "bom_selected.to_sql('bom', conn, if_exists='replace', index=False)\n",
    "tn_selected.to_sql('tn', conn, if_exists='replace', index=False)\n",
    "tmdb_df.to_sql('tmdb', conn, if_exists='replace', index=False)"
   ]
  },
  {
   "cell_type": "markdown",
   "metadata": {},
   "source": []
  },
  {
   "cell_type": "code",
   "execution_count": 154,
   "metadata": {},
   "outputs": [
    {
     "data": {
      "text/html": [
       "<div>\n",
       "<style scoped>\n",
       "    .dataframe tbody tr th:only-of-type {\n",
       "        vertical-align: middle;\n",
       "    }\n",
       "\n",
       "    .dataframe tbody tr th {\n",
       "        vertical-align: top;\n",
       "    }\n",
       "\n",
       "    .dataframe thead th {\n",
       "        text-align: right;\n",
       "    }\n",
       "</style>\n",
       "<table border=\"1\" class=\"dataframe\">\n",
       "  <thead>\n",
       "    <tr style=\"text-align: right;\">\n",
       "      <th></th>\n",
       "      <th>title</th>\n",
       "      <th>studio</th>\n",
       "      <th>domestic_gross_bom</th>\n",
       "      <th>bom_worldwide_gross</th>\n",
       "      <th>production_budget</th>\n",
       "      <th>domestic_gross_tn</th>\n",
       "      <th>worldwide_gross_tn</th>\n",
       "      <th>popularity</th>\n",
       "      <th>vote_count</th>\n",
       "      <th>original_language</th>\n",
       "    </tr>\n",
       "  </thead>\n",
       "  <tbody>\n",
       "    <tr>\n",
       "      <th>0</th>\n",
       "      <td>Toy Story 3</td>\n",
       "      <td>BV</td>\n",
       "      <td>415000000.0</td>\n",
       "      <td>652000000</td>\n",
       "      <td>$200,000,000</td>\n",
       "      <td>$415,004,880</td>\n",
       "      <td>$1,068,879,522</td>\n",
       "      <td>24.445</td>\n",
       "      <td>8340</td>\n",
       "      <td>en</td>\n",
       "    </tr>\n",
       "    <tr>\n",
       "      <th>1</th>\n",
       "      <td>Inception</td>\n",
       "      <td>WB</td>\n",
       "      <td>292600000.0</td>\n",
       "      <td>535700000</td>\n",
       "      <td>$160,000,000</td>\n",
       "      <td>$292,576,195</td>\n",
       "      <td>$835,524,642</td>\n",
       "      <td>27.920</td>\n",
       "      <td>22186</td>\n",
       "      <td>en</td>\n",
       "    </tr>\n",
       "    <tr>\n",
       "      <th>2</th>\n",
       "      <td>Shrek Forever After</td>\n",
       "      <td>P/DW</td>\n",
       "      <td>238700000.0</td>\n",
       "      <td>513900000</td>\n",
       "      <td>$165,000,000</td>\n",
       "      <td>$238,736,787</td>\n",
       "      <td>$756,244,673</td>\n",
       "      <td>15.041</td>\n",
       "      <td>3843</td>\n",
       "      <td>en</td>\n",
       "    </tr>\n",
       "    <tr>\n",
       "      <th>3</th>\n",
       "      <td>The Twilight Saga: Eclipse</td>\n",
       "      <td>Sum.</td>\n",
       "      <td>300500000.0</td>\n",
       "      <td>398000000</td>\n",
       "      <td>$68,000,000</td>\n",
       "      <td>$300,531,751</td>\n",
       "      <td>$706,102,828</td>\n",
       "      <td>20.340</td>\n",
       "      <td>4909</td>\n",
       "      <td>en</td>\n",
       "    </tr>\n",
       "    <tr>\n",
       "      <th>4</th>\n",
       "      <td>Iron Man 2</td>\n",
       "      <td>Par.</td>\n",
       "      <td>312400000.0</td>\n",
       "      <td>311500000</td>\n",
       "      <td>$170,000,000</td>\n",
       "      <td>$312,433,331</td>\n",
       "      <td>$621,156,389</td>\n",
       "      <td>28.515</td>\n",
       "      <td>12368</td>\n",
       "      <td>en</td>\n",
       "    </tr>\n",
       "  </tbody>\n",
       "</table>\n",
       "</div>"
      ],
      "text/plain": [
       "                        title studio  domestic_gross_bom bom_worldwide_gross  \\\n",
       "0                 Toy Story 3     BV         415000000.0           652000000   \n",
       "1                   Inception     WB         292600000.0           535700000   \n",
       "2         Shrek Forever After   P/DW         238700000.0           513900000   \n",
       "3  The Twilight Saga: Eclipse   Sum.         300500000.0           398000000   \n",
       "4                  Iron Man 2   Par.         312400000.0           311500000   \n",
       "\n",
       "  production_budget domestic_gross_tn worldwide_gross_tn  popularity  \\\n",
       "0      $200,000,000      $415,004,880     $1,068,879,522      24.445   \n",
       "1      $160,000,000      $292,576,195       $835,524,642      27.920   \n",
       "2      $165,000,000      $238,736,787       $756,244,673      15.041   \n",
       "3       $68,000,000      $300,531,751       $706,102,828      20.340   \n",
       "4      $170,000,000      $312,433,331       $621,156,389      28.515   \n",
       "\n",
       "   vote_count original_language  \n",
       "0        8340                en  \n",
       "1       22186                en  \n",
       "2        3843                en  \n",
       "3        4909                en  \n",
       "4       12368                en  "
      ]
     },
     "execution_count": 154,
     "metadata": {},
     "output_type": "execute_result"
    }
   ],
   "source": [
    "# Query to merge data from the three tables\n",
    "query = \"\"\"\n",
    "SELECT\n",
    "    bom.title,\n",
    "    bom.studio,\n",
    "    bom.domestic_gross AS domestic_gross_bom,\n",
    "    bom.foreign_gross AS bom_worldwide_gross,\n",
    "    tn.production_budget,\n",
    "    tn.domestic_gross AS domestic_gross_tn ,\n",
    "    tn.worldwide_gross AS worldwide_gross_tn,\n",
    "    tmdb.popularity,\n",
    "    tmdb.vote_count,\n",
    "    tmdb.original_language\n",
    "FROM\n",
    "    bom\n",
    "JOIN\n",
    "    tn ON bom.title = tn.title\n",
    "JOIN\n",
    "    tmdb ON bom.title = tmdb.title\n",
    "\"\"\"\n",
    "\n",
    "# Execute the query and load the results into a DataFrame\n",
    "merged_df = pd.read_sql_query(query, conn)\n",
    "\n",
    "# Optionally, save the merged DataFrame back to the database as a new table\n",
    "merged_df.to_sql('merged_data', conn, if_exists='replace', index=False)\n",
    "\n",
    "# Close the connection\n",
    "conn.close()\n",
    "\n",
    "merged_df.head()"
   ]
  },
  {
   "cell_type": "markdown",
   "metadata": {},
   "source": [
    "# Data cleaning "
   ]
  },
  {
   "cell_type": "markdown",
   "metadata": {},
   "source": [
    "In this section we clean and organize the merged data for easier analysis\n",
    "\n",
    "# 1. Removing duplicates\n",
    "In this step, we are going to get rid of any repeated values in the dataset"
   ]
  },
  {
   "cell_type": "code",
   "execution_count": 155,
   "metadata": {},
   "outputs": [],
   "source": [
    "# Remove duplicates based on all columns\n",
    "cleaned_df = merged_df.drop_duplicates()"
   ]
  },
  {
   "cell_type": "code",
   "execution_count": 166,
   "metadata": {},
   "outputs": [],
   "source": [
    "# Remove duplicates based on specific columns\n",
    "cleaned_df = merged_df.drop_duplicates(subset=['title'])"
   ]
  },
  {
   "cell_type": "markdown",
   "metadata": {},
   "source": [
    "# 2. Removing NaN values\n",
    "In this steop, we are again going to remove values that read 0 from our dataset"
   ]
  },
  {
   "cell_type": "code",
   "execution_count": 157,
   "metadata": {},
   "outputs": [
    {
     "name": "stdout",
     "output_type": "stream",
     "text": [
      "Missing values in each column:\n",
      "title                    0\n",
      "studio                   1\n",
      "domestic_gross_bom       2\n",
      "bom_worldwide_gross    195\n",
      "production_budget        0\n",
      "domestic_gross_tn        0\n",
      "worldwide_gross_tn       0\n",
      "popularity               0\n",
      "vote_count               0\n",
      "original_language        0\n",
      "dtype: int64\n"
     ]
    }
   ],
   "source": [
    "# Check for missing values\n",
    "missing_values = merged_df.isnull().sum()\n",
    "print(\"Missing values in each column:\")\n",
    "print(missing_values)\n",
    "\n",
    "# Drop rows with missing values\n",
    "cleaned_df = merged_df.dropna()"
   ]
  },
  {
   "cell_type": "markdown",
   "metadata": {},
   "source": [
    "# 3. Standardize Data Formats\n",
    "In this step, we will ensure that data formats are consistent currency symbols and numerical representations."
   ]
  },
  {
   "cell_type": "code",
   "execution_count": 158,
   "metadata": {},
   "outputs": [
    {
     "name": "stderr",
     "output_type": "stream",
     "text": [
      "<ipython-input-158-ff2af007699c>:2: SettingWithCopyWarning: \n",
      "A value is trying to be set on a copy of a slice from a DataFrame.\n",
      "Try using .loc[row_indexer,col_indexer] = value instead\n",
      "\n",
      "See the caveats in the documentation: https://pandas.pydata.org/pandas-docs/stable/user_guide/indexing.html#returning-a-view-versus-a-copy\n",
      "  cleaned_df['production_budget'] = cleaned_df['production_budget'].replace('[\\$,]', '', regex=True).astype(float)\n"
     ]
    }
   ],
   "source": [
    "# Remove dollar signs and commas from 'production_budget' and convert to numeric\n",
    "cleaned_df['production_budget'] = cleaned_df['production_budget'].replace('[\\$,]', '', regex=True).astype(float)\n"
   ]
  },
  {
   "cell_type": "markdown",
   "metadata": {},
   "source": [
    "# 4. Remove Unnecessary Columns\n",
    "In this step, we are dropping the domestic gross column for the bom data frame as it is deemed unnecessary because it is rounded off hence not needed for our analysis.\n",
    "This is because we have a more accurate column from the tn database which has not been rounded off."
   ]
  },
  {
   "cell_type": "code",
   "execution_count": 159,
   "metadata": {},
   "outputs": [
    {
     "data": {
      "text/html": [
       "<div>\n",
       "<style scoped>\n",
       "    .dataframe tbody tr th:only-of-type {\n",
       "        vertical-align: middle;\n",
       "    }\n",
       "\n",
       "    .dataframe tbody tr th {\n",
       "        vertical-align: top;\n",
       "    }\n",
       "\n",
       "    .dataframe thead th {\n",
       "        text-align: right;\n",
       "    }\n",
       "</style>\n",
       "<table border=\"1\" class=\"dataframe\">\n",
       "  <thead>\n",
       "    <tr style=\"text-align: right;\">\n",
       "      <th></th>\n",
       "      <th>title</th>\n",
       "      <th>studio</th>\n",
       "      <th>domestic_gross_bom</th>\n",
       "      <th>bom_worldwide_gross</th>\n",
       "      <th>production_budget</th>\n",
       "      <th>worldwide_gross_tn</th>\n",
       "      <th>popularity</th>\n",
       "      <th>vote_count</th>\n",
       "      <th>original_language</th>\n",
       "    </tr>\n",
       "  </thead>\n",
       "  <tbody>\n",
       "    <tr>\n",
       "      <th>0</th>\n",
       "      <td>Toy Story 3</td>\n",
       "      <td>BV</td>\n",
       "      <td>415000000.0</td>\n",
       "      <td>652000000</td>\n",
       "      <td>200000000.0</td>\n",
       "      <td>$1,068,879,522</td>\n",
       "      <td>24.445</td>\n",
       "      <td>8340</td>\n",
       "      <td>en</td>\n",
       "    </tr>\n",
       "    <tr>\n",
       "      <th>1</th>\n",
       "      <td>Inception</td>\n",
       "      <td>WB</td>\n",
       "      <td>292600000.0</td>\n",
       "      <td>535700000</td>\n",
       "      <td>160000000.0</td>\n",
       "      <td>$835,524,642</td>\n",
       "      <td>27.920</td>\n",
       "      <td>22186</td>\n",
       "      <td>en</td>\n",
       "    </tr>\n",
       "    <tr>\n",
       "      <th>2</th>\n",
       "      <td>Shrek Forever After</td>\n",
       "      <td>P/DW</td>\n",
       "      <td>238700000.0</td>\n",
       "      <td>513900000</td>\n",
       "      <td>165000000.0</td>\n",
       "      <td>$756,244,673</td>\n",
       "      <td>15.041</td>\n",
       "      <td>3843</td>\n",
       "      <td>en</td>\n",
       "    </tr>\n",
       "    <tr>\n",
       "      <th>3</th>\n",
       "      <td>The Twilight Saga: Eclipse</td>\n",
       "      <td>Sum.</td>\n",
       "      <td>300500000.0</td>\n",
       "      <td>398000000</td>\n",
       "      <td>68000000.0</td>\n",
       "      <td>$706,102,828</td>\n",
       "      <td>20.340</td>\n",
       "      <td>4909</td>\n",
       "      <td>en</td>\n",
       "    </tr>\n",
       "    <tr>\n",
       "      <th>4</th>\n",
       "      <td>Iron Man 2</td>\n",
       "      <td>Par.</td>\n",
       "      <td>312400000.0</td>\n",
       "      <td>311500000</td>\n",
       "      <td>170000000.0</td>\n",
       "      <td>$621,156,389</td>\n",
       "      <td>28.515</td>\n",
       "      <td>12368</td>\n",
       "      <td>en</td>\n",
       "    </tr>\n",
       "  </tbody>\n",
       "</table>\n",
       "</div>"
      ],
      "text/plain": [
       "                        title studio  domestic_gross_bom bom_worldwide_gross  \\\n",
       "0                 Toy Story 3     BV         415000000.0           652000000   \n",
       "1                   Inception     WB         292600000.0           535700000   \n",
       "2         Shrek Forever After   P/DW         238700000.0           513900000   \n",
       "3  The Twilight Saga: Eclipse   Sum.         300500000.0           398000000   \n",
       "4                  Iron Man 2   Par.         312400000.0           311500000   \n",
       "\n",
       "   production_budget worldwide_gross_tn  popularity  vote_count  \\\n",
       "0        200000000.0     $1,068,879,522      24.445        8340   \n",
       "1        160000000.0       $835,524,642      27.920       22186   \n",
       "2        165000000.0       $756,244,673      15.041        3843   \n",
       "3         68000000.0       $706,102,828      20.340        4909   \n",
       "4        170000000.0       $621,156,389      28.515       12368   \n",
       "\n",
       "  original_language  \n",
       "0                en  \n",
       "1                en  \n",
       "2                en  \n",
       "3                en  \n",
       "4                en  "
      ]
     },
     "execution_count": 159,
     "metadata": {},
     "output_type": "execute_result"
    }
   ],
   "source": [
    "# Remove NaN values\n",
    "\n",
    "#Here we are dropping the domestic gross for the bom data frame as it is rounded off\n",
    "#After dropping that we use the domestic gross in the tn dataframe\n",
    "cleaned_df = cleaned_df.drop(columns=['domestic_gross_tn'])\n",
    "cleaned_df.head()"
   ]
  },
  {
   "cell_type": "markdown",
   "metadata": {},
   "source": [
    "## DATA ANALYSIS\n",
    "In this section of the data analysis, we calculate and display the summary statistics for several key metrics in the dataset. These metrics include Domestic Gross, Worldwide Gross, Production Budget, and Popularity. The summary statistics provide insights into the distribution, central tendency, and variability of these variables, helping us understand the financial performance and popularity of the movies.\n",
    "\n",
    "These statistics will offer a comprehensive overview of the dataset, highlighting the range and central tendencies of key financial and popularity indicators. \n",
    "This foundational analysis is crucial for understanding the overall landscape of the data and guiding further in-depth analyses and visualizations."
   ]
  },
  {
   "cell_type": "code",
   "execution_count": 160,
   "metadata": {},
   "outputs": [
    {
     "name": "stdout",
     "output_type": "stream",
     "text": [
      "Domestic Gross Statistics:\n",
      "count    1.197000e+03\n",
      "mean     7.206654e+07\n",
      "std      9.214443e+07\n",
      "min      8.000000e+02\n",
      "25%      1.580000e+07\n",
      "50%      4.140000e+07\n",
      "75%      8.930000e+07\n",
      "max      7.001000e+08\n",
      "Name: domestic_gross_bom, dtype: float64\n",
      "Worldwide Gross Statistics:\n",
      "count         1197\n",
      "unique         771\n",
      "top       41100000\n",
      "freq            11\n",
      "Name: bom_worldwide_gross, dtype: object\n",
      "Production Budget Statistics:\n",
      "count    1.197000e+03\n",
      "mean     5.403385e+07\n",
      "std      5.871474e+07\n",
      "min      1.000000e+05\n",
      "25%      1.450000e+07\n",
      "50%      3.100000e+07\n",
      "75%      7.000000e+07\n",
      "max      4.106000e+08\n",
      "Name: production_budget, dtype: float64\n",
      "Popularity Statistics:\n",
      "count    1197.000000\n",
      "mean       13.887809\n",
      "std         8.231454\n",
      "min         0.600000\n",
      "25%         9.034000\n",
      "50%        12.408000\n",
      "75%        16.646000\n",
      "max        80.773000\n",
      "Name: popularity, dtype: float64\n"
     ]
    }
   ],
   "source": [
    "print(\"Domestic Gross Statistics:\")\n",
    "print(cleaned_df['domestic_gross_bom'].describe())\n",
    "\n",
    "print(\"Worldwide Gross Statistics:\")\n",
    "print(cleaned_df['bom_worldwide_gross'].describe())\n",
    "\n",
    "print(\"Production Budget Statistics:\")\n",
    "print(cleaned_df['production_budget'].describe())\n",
    "\n",
    "print(\"Popularity Statistics:\")\n",
    "print(cleaned_df['popularity'].describe())"
   ]
  },
  {
   "cell_type": "markdown",
   "metadata": {},
   "source": [
    "## Distribution of Film Popularity\n",
    "\n",
    "The histogram above shows the distribution of the `popularity` scores for films in the dataset. \n",
    "\n",
    "### Key Observations:\n",
    "1. **Skewed Distribution**: The distribution of popularity is right-skewed, with most films clustered around lower popularity scores. This indicates that only a few films achieve high popularity, while the majority have relatively modest scores.\n",
    "2. **Peak and Range**: The peak of the distribution occurs around a popularity score of 10, suggesting that this is a common level of popularity for most films in the dataset.\n",
    "3. **Long Tail**: The long tail extending to the right highlights that there are a few films with significantly higher popularity scores, up to around 80.\n",
    "\n",
    "This visualization helps in understanding the overall popularity landscape, showing that high popularity is rare compared to lower and moderate levels."
   ]
  },
  {
   "cell_type": "code",
   "execution_count": 161,
   "metadata": {},
   "outputs": [
    {
     "data": {
      "image/png": "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",
      "text/plain": [
       "<Figure size 864x432 with 1 Axes>"
      ]
     },
     "metadata": {
      "needs_background": "light"
     },
     "output_type": "display_data"
    }
   ],
   "source": [
    "\n",
    "# Plot Popularity Distribution\n",
    "plt.figure(figsize=(12, 6))\n",
    "sns.histplot(cleaned_df['popularity'], bins=20, kde=True)\n",
    "plt.title('Distribution of Film Popularity')\n",
    "plt.xlabel('Popularity')\n",
    "plt.ylabel('Frequency')\n",
    "plt.show()"
   ]
  },
  {
   "cell_type": "markdown",
   "metadata": {},
   "source": [
    "## Vote Count vs. Popularity\n",
    "\n",
    "The scatter plot above illustrates the relationship between the number of votes a film has received (`vote_count`) and its popularity (`popularity`). \n",
    "\n",
    "### Key Observations:\n",
    "1. **Concentration of Data Points**: There is a dense cluster of data points at the lower end of the `vote_count` axis, indicating that most films have a relatively low number of votes.\n",
    "2. **Popularity Range**: The `popularity` metric varies widely even among films with similar vote counts, suggesting that vote count alone is not a definitive measure of popularity.\n",
    "3. **Outliers**: A few films have exceptionally high `vote_count` and `popularity`, standing out from the rest of the dataset.\n",
    "\n",
    "This visualization helps in understanding how audience engagement (measured by `vote_count`) correlates with the perceived popularity of a film."
   ]
  },
  {
   "cell_type": "code",
   "execution_count": 162,
   "metadata": {},
   "outputs": [
    {
     "data": {
      "image/png": "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",
      "text/plain": [
       "<Figure size 720x432 with 1 Axes>"
      ]
     },
     "metadata": {
      "needs_background": "light"
     },
     "output_type": "display_data"
    }
   ],
   "source": [
    "plt.figure(figsize=(10, 6))\n",
    "plt.scatter(cleaned_df['vote_count'], cleaned_df['popularity'], color='skyblue', edgecolor='black', alpha=0.7)\n",
    "plt.title('Vote Count vs. Popularity')\n",
    "plt.xlabel('Vote Count')\n",
    "plt.ylabel('Popularity')\n",
    "plt.show()\n"
   ]
  },
  {
   "cell_type": "markdown",
   "metadata": {},
   "source": [
    "## Average Popularity by Language\n",
    "\n",
    "The bar chart above illustrates the average popularity of films categorized by their original language. \n",
    "\n",
    "### Key Observations:\n",
    "1. **Top Languages by Popularity**:\n",
    "   - **English (en)** stands out with the highest average popularity, suggesting that English-language films generally receive more attention and engagement.\n",
    "   - **Danish (da)** and **Telugu (te)** also show high average popularity, indicating strong interest in films in these languages.\n",
    "\n",
    "2. **Diverse Representation**:\n",
    "   - The chart includes a variety of languages, highlighting the global diversity of the film industry. Languages like **Korean (ko)**, **Swedish (sv)**, **Polish (pl)**, and **Turkish (tr)** are represented, each with varying levels of average popularity.\n",
    "  \n",
    "3. **Lower Popularity**:\n",
    "   - Languages like **Hungarian (hu)** and **Non-Language (xx)** are at the lower end of the scale, which may reflect either a lower number of films in these languages or less engagement from global audiences.\n",
    "\n",
    "This visualization provides insights into how film popularity varies across different languages, emphasizing the prominence of English while also showcasing the significant popularity of films in other languages."
   ]
  },
  {
   "cell_type": "code",
   "execution_count": 163,
   "metadata": {},
   "outputs": [
    {
     "data": {
      "image/png": "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",
      "text/plain": [
       "<Figure size 864x576 with 1 Axes>"
      ]
     },
     "metadata": {
      "needs_background": "light"
     },
     "output_type": "display_data"
    }
   ],
   "source": [
    "# Calculate the average popularity per language\n",
    "avg_popularity_per_language = cleaned_df.groupby('original_language')['popularity'].mean().reset_index()\n",
    "\n",
    "# Sort the data by popularity\n",
    "avg_popularity_per_language = avg_popularity_per_language.sort_values(by='popularity', ascending=False)\n",
    "\n",
    "# Plot the average popularity by language\n",
    "plt.figure(figsize=(12, 8))\n",
    "sns.barplot(x='popularity', y='original_language', data=avg_popularity_per_language, palette='viridis')\n",
    "plt.title('Average Popularity by Language')\n",
    "plt.xlabel('Average Popularity')\n",
    "plt.ylabel('Original Language')\n",
    "plt.show()"
   ]
  },
  {
   "cell_type": "markdown",
   "metadata": {},
   "source": [
    "- **Sorting by Popularity**: The films are sorted based on the 'popularity' column, with the most popular films appearing first.\n",
    "- **Selecting Columns**: The code selects specific columns: 'title', 'domestic_gross_tn', 'bom_worldwide_gross', 'production_budget', and 'popularity'.\n",
    "- **Displaying the Table**: The `display` function is used to present the top 10 films in a neatly formatted table, making it easy to compare their popularity, gross earnings, and production budgets.\n",
    "\n",
    "This approach helps identify the most popular films in the dataset and provides insights into their financial performance and production costs."
   ]
  },
  {
   "cell_type": "code",
   "execution_count": 167,
   "metadata": {},
   "outputs": [
    {
     "name": "stdout",
     "output_type": "stream",
     "text": [
      "Top 10 Films by Popularity:\n"
     ]
    },
    {
     "data": {
      "text/html": [
       "<div>\n",
       "<style scoped>\n",
       "    .dataframe tbody tr th:only-of-type {\n",
       "        vertical-align: middle;\n",
       "    }\n",
       "\n",
       "    .dataframe tbody tr th {\n",
       "        vertical-align: top;\n",
       "    }\n",
       "\n",
       "    .dataframe thead th {\n",
       "        text-align: right;\n",
       "    }\n",
       "</style>\n",
       "<table border=\"1\" class=\"dataframe\">\n",
       "  <thead>\n",
       "    <tr style=\"text-align: right;\">\n",
       "      <th></th>\n",
       "      <th>title</th>\n",
       "      <th>domestic_gross_bom</th>\n",
       "      <th>bom_worldwide_gross</th>\n",
       "      <th>production_budget</th>\n",
       "      <th>popularity</th>\n",
       "    </tr>\n",
       "  </thead>\n",
       "  <tbody>\n",
       "    <tr>\n",
       "      <th>1292</th>\n",
       "      <td>Avengers: Infinity War</td>\n",
       "      <td>678800000.0</td>\n",
       "      <td>1,369.5</td>\n",
       "      <td>$300,000,000</td>\n",
       "      <td>80.773</td>\n",
       "    </tr>\n",
       "    <tr>\n",
       "      <th>698</th>\n",
       "      <td>John Wick</td>\n",
       "      <td>43000000.0</td>\n",
       "      <td>45700000</td>\n",
       "      <td>$30,000,000</td>\n",
       "      <td>78.123</td>\n",
       "    </tr>\n",
       "    <tr>\n",
       "      <th>638</th>\n",
       "      <td>The Hobbit: The Battle of the Five Armies</td>\n",
       "      <td>255100000.0</td>\n",
       "      <td>700900000</td>\n",
       "      <td>$250,000,000</td>\n",
       "      <td>53.783</td>\n",
       "    </tr>\n",
       "    <tr>\n",
       "      <th>639</th>\n",
       "      <td>Guardians of the Galaxy</td>\n",
       "      <td>333200000.0</td>\n",
       "      <td>440200000</td>\n",
       "      <td>$170,000,000</td>\n",
       "      <td>49.606</td>\n",
       "    </tr>\n",
       "    <tr>\n",
       "      <th>1190</th>\n",
       "      <td>Blade Runner 2049</td>\n",
       "      <td>92100000.0</td>\n",
       "      <td>167200000</td>\n",
       "      <td>$185,000,000</td>\n",
       "      <td>48.571</td>\n",
       "    </tr>\n",
       "    <tr>\n",
       "      <th>1300</th>\n",
       "      <td>Fantastic Beasts: The Crimes of Grindelwald</td>\n",
       "      <td>159600000.0</td>\n",
       "      <td>494100000</td>\n",
       "      <td>$200,000,000</td>\n",
       "      <td>48.508</td>\n",
       "    </tr>\n",
       "    <tr>\n",
       "      <th>1157</th>\n",
       "      <td>Spider-Man: Homecoming</td>\n",
       "      <td>334200000.0</td>\n",
       "      <td>546000000</td>\n",
       "      <td>$175,000,000</td>\n",
       "      <td>46.775</td>\n",
       "    </tr>\n",
       "    <tr>\n",
       "      <th>1301</th>\n",
       "      <td>Ant-Man and the Wasp</td>\n",
       "      <td>216600000.0</td>\n",
       "      <td>406000000</td>\n",
       "      <td>$130,000,000</td>\n",
       "      <td>44.729</td>\n",
       "    </tr>\n",
       "    <tr>\n",
       "      <th>780</th>\n",
       "      <td>Avengers: Age of Ultron</td>\n",
       "      <td>459000000.0</td>\n",
       "      <td>946400000</td>\n",
       "      <td>$330,600,000</td>\n",
       "      <td>44.383</td>\n",
       "    </tr>\n",
       "    <tr>\n",
       "      <th>1158</th>\n",
       "      <td>Thor: Ragnarok</td>\n",
       "      <td>315100000.0</td>\n",
       "      <td>538900000</td>\n",
       "      <td>$180,000,000</td>\n",
       "      <td>43.450</td>\n",
       "    </tr>\n",
       "  </tbody>\n",
       "</table>\n",
       "</div>"
      ],
      "text/plain": [
       "                                            title  domestic_gross_bom  \\\n",
       "1292                       Avengers: Infinity War         678800000.0   \n",
       "698                                     John Wick          43000000.0   \n",
       "638     The Hobbit: The Battle of the Five Armies         255100000.0   \n",
       "639                       Guardians of the Galaxy         333200000.0   \n",
       "1190                            Blade Runner 2049          92100000.0   \n",
       "1300  Fantastic Beasts: The Crimes of Grindelwald         159600000.0   \n",
       "1157                       Spider-Man: Homecoming         334200000.0   \n",
       "1301                         Ant-Man and the Wasp         216600000.0   \n",
       "780                       Avengers: Age of Ultron         459000000.0   \n",
       "1158                               Thor: Ragnarok         315100000.0   \n",
       "\n",
       "     bom_worldwide_gross production_budget  popularity  \n",
       "1292             1,369.5      $300,000,000      80.773  \n",
       "698             45700000       $30,000,000      78.123  \n",
       "638            700900000      $250,000,000      53.783  \n",
       "639            440200000      $170,000,000      49.606  \n",
       "1190           167200000      $185,000,000      48.571  \n",
       "1300           494100000      $200,000,000      48.508  \n",
       "1157           546000000      $175,000,000      46.775  \n",
       "1301           406000000      $130,000,000      44.729  \n",
       "780            946400000      $330,600,000      44.383  \n",
       "1158           538900000      $180,000,000      43.450  "
      ]
     },
     "metadata": {},
     "output_type": "display_data"
    }
   ],
   "source": [
    "from IPython.display import display\n",
    "# Sort by Popularity in descending order\n",
    "top_performers = cleaned_df.sort_values(by='popularity', ascending=False)\n",
    "\n",
    "# Select the top 10 films and the desired columns\n",
    "top_10_table = top_performers[['title', 'domestic_gross_bom', 'bom_worldwide_gross', 'production_budget', 'popularity']].head(10)\n",
    "\n",
    "# Display the top 10 films in a tabular format\n",
    "print(\"Top 10 Films by Popularity:\")\n",
    "display(top_10_table)\n",
    "\n"
   ]
  },
  {
   "cell_type": "code",
   "execution_count": 165,
   "metadata": {},
   "outputs": [
    {
     "name": "stdout",
     "output_type": "stream",
     "text": [
      "Correlation Matrix:\n",
      "                    domestic_gross_bom  production_budget  popularity\n",
      "domestic_gross_bom            1.000000           0.672301    0.504415\n",
      "production_budget             0.672301           1.000000    0.528207\n",
      "popularity                    0.504415           0.528207    1.000000\n"
     ]
    },
    {
     "data": {
      "image/png": "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",
      "text/plain": [
       "<Figure size 720x576 with 2 Axes>"
      ]
     },
     "metadata": {
      "needs_background": "light"
     },
     "output_type": "display_data"
    }
   ],
   "source": [
    "# Compute correlations\n",
    "correlations = cleaned_df[['domestic_gross_bom', 'bom_worldwide_gross', 'production_budget', 'popularity']].corr()\n",
    "\n",
    "# Display correlation matrix\n",
    "print(\"Correlation Matrix:\")\n",
    "print(correlations)\n",
    "\n",
    "# Heatmap of correlations\n",
    "plt.figure(figsize=(10, 8))\n",
    "sns.heatmap(correlations, annot=True, cmap='coolwarm', fmt='.2f')\n",
    "plt.title('Correlation Matrix of Key Metrics')\n",
    "plt.show()"
   ]
  },
  {
   "cell_type": "markdown",
   "metadata": {},
   "source": [
    "The heatmap visually represents the strength and direction of the relationships between these variables, providing insights into how these factors may influence each other. In this case, the moderate positive correlation between domestic gross and popularity suggests that films with higher domestic earnings tend to be more popular."
   ]
  },
  {
   "cell_type": "markdown",
   "metadata": {},
   "source": [
    "## RECOMMENDATIONS TO THE COMPANY\n",
    "\n",
    "# 1. Focus on High-Potential Languages and Genres\n",
    "Our analysis revealed that films with original languages like English, Danish, and Telugu tend to have higher average popularity and significant box office performance. This suggests that investing in films in these languages, or at least ensuring quality translations and marketing for international audiences, could enhance global appeal and profitability.\n",
    "\n",
    "# 2. Optimize Production Budgets Based on Genre and Expected Returns\n",
    "The correlation between production budgets and box office performance highlights that higher budgets do not always correlate with proportionately higher returns. Stakeholders should carefully assess the expected return on investment (ROI) for different genres and budget levels. This includes leveraging data-driven forecasting models to set budget allocations that maximize profitability without overextending resources.\n",
    "\n",
    "# 3. Leverage Popularity and Vote Counts in Marketing Strategies\n",
    "The positive correlation between popularity (as measured by TMDb's popularity metric) and box office success indicates that films that resonate well with audiences early on can drive higher revenue. The company should invest in early marketing efforts to boost a film's popularity and leverage social media, fan engagement, and influencer partnerships to increase vote counts and visibility.\n",
    "\n",
    "# 4. Diversify Studio Portfolios\n",
    "The data suggests that different studios have varying strengths in terms of the genres and types of films they produce. The company could benefit from diversifying its portfolio by either partnering with or acquiring studios that excel in underrepresented genres or target demographics. This would help mitigate risks and capitalize on a broader range of market opportunities.\n",
    "\n",
    "# 5. Data-Driven Decision Making\n",
    "Stakeholders should invest in enhancing their data analytics capabilities to make more informed decisions. This includes implementing advanced analytics tools to better understand market trends, audience preferences, and the competitive landscape. Regularly updated data dashboards could provide real-time insights that guide strategic decisions in production, distribution, and marketing."
   ]
  },
  {
   "cell_type": "markdown",
   "metadata": {},
   "source": [
    "## NEXT STEPS\n",
    "To implement these recommendations effectively, the company should consider the following next steps:\n",
    "\n",
    "1. Conduct Market Research to identify emerging trends in language preferences and genre popularity.\n",
    "2. Develop a Comprehensive Marketing Strategy that includes targeted campaigns based on film genres and audience demographics.\n",
    "3. Evaluate and Adjust Production Budgets to align with the findings on budget efficiency and expected returns.\n",
    "4. Expand Data Analytics Capabilities by hiring data scientists or partnering with analytics firms to build predictive models and decision-support systems."
   ]
  },
  {
   "cell_type": "markdown",
   "metadata": {},
   "source": [
    "## CONCLUSION\n",
    "\n",
    "# The goal\n",
    "This project aimed to analyze key metrics related to film performance, including domestic gross, worldwide gross, production budgets, and popularity. By leveraging data from multiple sources, we explored various factors influencing box office success and audience engagement.\n",
    "\n",
    "# The findings\n",
    "The findings from this project offer valuable guidance for stakeholders in the film industry. By focusing on high-potential languages and genres, optimizing production budgets, leveraging audience engagement metrics, and diversifying content offerings, the company can strengthen its market position and achieve sustainable growth.\n",
    "\n",
    "# Future plans\n",
    "Future efforts should include continued data collection and analysis to refine these insights and adapt to changing market dynamics. Overall, this project underscores the importance of data-driven decision-making in the increasingly competitive landscape of the entertainment industry."
   ]
  }
 ],
 "metadata": {
  "kernelspec": {
   "display_name": "Python (learn-env)",
   "language": "python",
   "name": "learn-env"
  },
  "language_info": {
   "codemirror_mode": {
    "name": "ipython",
    "version": 3
   },
   "file_extension": ".py",
   "mimetype": "text/x-python",
   "name": "python",
   "nbconvert_exporter": "python",
   "pygments_lexer": "ipython3",
   "version": "3.8.5"
  }
 },
 "nbformat": 4,
 "nbformat_minor": 2
}

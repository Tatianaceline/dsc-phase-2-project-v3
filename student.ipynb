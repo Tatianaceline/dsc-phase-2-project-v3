{
 "cells": [
  {
   "cell_type": "markdown",
   "metadata": {},
   "source": [
    "## Final Project Submission\n",
    "\n",
    "Please fill out:\n",
    "* Student name: TATIANA CELINE TEMBA\n",
    "* Student pace: full time\n",
    "* Scheduled project review date/time: \n",
    "* Instructor name: Antonny Muiko\n",
    "* Blog post URL: \n"
   ]
  },
  {
   "cell_type": "markdown",
   "metadata": {},
   "source": [
    "## PROJECT DESCRIPTION\n",
    "Analyzing Box Office Success for a New Movie Studio\n",
    "\n",
    "## Project Overview\n",
    "\n",
    "As the entertainment industry increasingly embraces original video content, our company is eager to enter the market by establishing a new movie studio. However, with limited knowledge of film production, the studio requires strategic guidance to ensure its success. This project aims to analyze the current trends in the movie industry, focusing on identifying the types of films that perform best at the box office. The insights gained will provide actionable recommendations to help the studio make informed decisions about the genres and features to prioritize in its film production.\n",
    "\n",
    "## Business Problem\n",
    "\n",
    "The primary challenge is to determine the key factors that contribute to a movie's box office success. By understanding these factors, the studio can better position itself in the competitive market, choosing genres and movie elements that resonate with audiences and maximize revenue.\n",
    "\n",
    "## Data Sources\n",
    "\n",
    "To address this challenge, we will analyze data from several sources:\n",
    "\n",
    "1. Box Office Mojo\n",
    "2. IMDB\n",
    "3. Rotten Tomatoes \n",
    "4. TheMovieDB\n",
    "5. The Numbers\n",
    "\n",
    "## Analysis Objectives\n",
    "\n",
    "The analysis will focus on the following key questions:\n",
    "1. Which genres are the most popular and profitable?\n",
    "2. What are the trends in box office revenue over the years?\n",
    "3. What factors contribute to a movie's success?\n",
    "\n",
    "## Expected Outcomes and Recommendations\n",
    "\n",
    "The findings from this analysis will lead to three key business recommendations for the new movie studio:\n",
    "1. **Focus on High-Performing Genres**: Invest in genres that have shown consistent profitability and popularity among audiences.\n",
    "2. **Leverage Audience Ratings and Trends**: Use insights from audience ratings and preferences to guide the creative direction and marketing strategies.\n",
    "3. **Optimize Release Timing and Movie Features**: Consider optimal release times and key movie features, such as runtime and cast, to enhance the studio's appeal and market positioning."
   ]
  },
  {
   "cell_type": "markdown",
   "metadata": {},
   "source": [
    "# Importing necessary libraries"
   ]
  },
  {
   "cell_type": "code",
   "execution_count": 849,
   "metadata": {},
   "outputs": [],
   "source": [
    "import pandas as pd\n",
    "import numpy as np\n",
    "import sqlite3\n",
    "import matplotlib.pyplot as plt\n",
    "import seaborn as sns"
   ]
  },
  {
   "cell_type": "markdown",
   "metadata": {},
   "source": [
    "# Loading the Data"
   ]
  },
  {
   "cell_type": "code",
   "execution_count": 850,
   "metadata": {},
   "outputs": [
    {
     "name": "stdout",
     "output_type": "stream",
     "text": [
      "                                         title studio  domestic_gross  \\\n",
      "0                                  Toy Story 3     BV     415000000.0   \n",
      "1                   Alice in Wonderland (2010)     BV     334200000.0   \n",
      "2  Harry Potter and the Deathly Hallows Part 1     WB     296000000.0   \n",
      "3                                    Inception     WB     292600000.0   \n",
      "4                          Shrek Forever After   P/DW     238700000.0   \n",
      "\n",
      "  foreign_gross  year  \n",
      "0     652000000  2010  \n",
      "1     691300000  2010  \n",
      "2     664300000  2010  \n",
      "3     535700000  2010  \n",
      "4     513900000  2010  \n"
     ]
    }
   ],
   "source": [
    "# Load the datasets\n",
    "\n",
    "bom_df = pd.read_csv('zippedData/bom.movie_gross.csv.gz')\n",
    "\n",
    "print(bom_df.head())"
   ]
  },
  {
   "cell_type": "code",
   "execution_count": 851,
   "metadata": {},
   "outputs": [
    {
     "name": "stdout",
     "output_type": "stream",
     "text": [
      "   Unnamed: 0            genre_ids     id original_language  \\\n",
      "0           0      [12, 14, 10751]  12444                en   \n",
      "1           1  [14, 12, 16, 10751]  10191                en   \n",
      "2           2        [12, 28, 878]  10138                en   \n",
      "3           3      [16, 35, 10751]    862                en   \n",
      "4           4        [28, 878, 12]  27205                en   \n",
      "\n",
      "                                 original_title  popularity release_date  \\\n",
      "0  Harry Potter and the Deathly Hallows: Part 1      33.533   2010-11-19   \n",
      "1                      How to Train Your Dragon      28.734   2010-03-26   \n",
      "2                                    Iron Man 2      28.515   2010-05-07   \n",
      "3                                     Toy Story      28.005   1995-11-22   \n",
      "4                                     Inception      27.920   2010-07-16   \n",
      "\n",
      "                                          title  vote_average  vote_count  \n",
      "0  Harry Potter and the Deathly Hallows: Part 1           7.7       10788  \n",
      "1                      How to Train Your Dragon           7.7        7610  \n",
      "2                                    Iron Man 2           6.8       12368  \n",
      "3                                     Toy Story           7.9       10174  \n",
      "4                                     Inception           8.3       22186  \n"
     ]
    }
   ],
   "source": [
    "tmdb_df = pd.read_csv('zippedData/tmdb.movies.csv.gz')\n",
    "\n",
    "print(tmdb_df.head())"
   ]
  },
  {
   "cell_type": "code",
   "execution_count": 852,
   "metadata": {},
   "outputs": [
    {
     "name": "stdout",
     "output_type": "stream",
     "text": [
      "   id  release_date                                        movie  \\\n",
      "0   1  Dec 18, 2009                                       Avatar   \n",
      "1   2  May 20, 2011  Pirates of the Caribbean: On Stranger Tides   \n",
      "2   3   Jun 7, 2019                                 Dark Phoenix   \n",
      "3   4   May 1, 2015                      Avengers: Age of Ultron   \n",
      "4   5  Dec 15, 2017            Star Wars Ep. VIII: The Last Jedi   \n",
      "\n",
      "  production_budget domestic_gross worldwide_gross  \n",
      "0      $425,000,000   $760,507,625  $2,776,345,279  \n",
      "1      $410,600,000   $241,063,875  $1,045,663,875  \n",
      "2      $350,000,000    $42,762,350    $149,762,350  \n",
      "3      $330,600,000   $459,005,868  $1,403,013,963  \n",
      "4      $317,000,000   $620,181,382  $1,316,721,747  \n"
     ]
    }
   ],
   "source": [
    "tn_df = pd.read_csv('zippedData/tn.movie_budgets.csv.gz')\n",
    "\n",
    "print(tn_df.head())"
   ]
  },
  {
   "cell_type": "markdown",
   "metadata": {},
   "source": [
    "# Select relevant columns from each dataset"
   ]
  },
  {
   "cell_type": "code",
   "execution_count": 853,
   "metadata": {},
   "outputs": [
    {
     "data": {
      "text/plain": [
       "(                                         title studio  domestic_gross  \\\n",
       " 0                                  Toy Story 3     BV     415000000.0   \n",
       " 1                   Alice in Wonderland (2010)     BV     334200000.0   \n",
       " 2  Harry Potter and the Deathly Hallows Part 1     WB     296000000.0   \n",
       " 3                                    Inception     WB     292600000.0   \n",
       " 4                          Shrek Forever After   P/DW     238700000.0   \n",
       " \n",
       "   foreign_gross  \n",
       " 0     652000000  \n",
       " 1     691300000  \n",
       " 2     664300000  \n",
       " 3     535700000  \n",
       " 4     513900000  ,\n",
       "                                          movie production_budget  \\\n",
       " 0                                       Avatar      $425,000,000   \n",
       " 1  Pirates of the Caribbean: On Stranger Tides      $410,600,000   \n",
       " 2                                 Dark Phoenix      $350,000,000   \n",
       " 3                      Avengers: Age of Ultron      $330,600,000   \n",
       " 4            Star Wars Ep. VIII: The Last Jedi      $317,000,000   \n",
       " \n",
       "   worldwide_gross domestic_gross  \n",
       " 0  $2,776,345,279   $760,507,625  \n",
       " 1  $1,045,663,875   $241,063,875  \n",
       " 2    $149,762,350    $42,762,350  \n",
       " 3  $1,403,013,963   $459,005,868  \n",
       " 4  $1,316,721,747   $620,181,382  )"
      ]
     },
     "execution_count": 853,
     "metadata": {},
     "output_type": "execute_result"
    }
   ],
   "source": [
    "# Select relevant columns from each dataset\n",
    "bom_selected = bom_df[['title', 'studio', 'domestic_gross', 'foreign_gross']]\n",
    "tmdb_selected = tmdb_df[['title', 'popularity', 'vote_count', 'original_language']]\n",
    "tn_selected = tn_df[['movie', 'production_budget', 'worldwide_gross', 'domestic_gross']]\n",
    "\n",
    "# Display the first few rows of the selected DataFrames\n",
    "bom_selected.head(), tn_selected.head()"
   ]
  },
  {
   "cell_type": "markdown",
   "metadata": {},
   "source": [
    "# Renaming columns for consistency\n",
    "Here, we will rename the columns to allow a similarity so as to make it easier when merging the datasets after data cleaning."
   ]
  },
  {
   "cell_type": "code",
   "execution_count": 854,
   "metadata": {},
   "outputs": [
    {
     "data": {
      "text/plain": [
       "(                                         title studio  domestic_gross  \\\n",
       " 0                                  Toy Story 3     BV     415000000.0   \n",
       " 1                   Alice in Wonderland (2010)     BV     334200000.0   \n",
       " 2  Harry Potter and the Deathly Hallows Part 1     WB     296000000.0   \n",
       " 3                                    Inception     WB     292600000.0   \n",
       " 4                          Shrek Forever After   P/DW     238700000.0   \n",
       " \n",
       "   worldwide_gross  \n",
       " 0       652000000  \n",
       " 1       691300000  \n",
       " 2       664300000  \n",
       " 3       535700000  \n",
       " 4       513900000  ,\n",
       "                                           title  popularity  vote_count  \\\n",
       " 0  Harry Potter and the Deathly Hallows: Part 1      33.533       10788   \n",
       " 1                      How to Train Your Dragon      28.734        7610   \n",
       " 2                                    Iron Man 2      28.515       12368   \n",
       " 3                                     Toy Story      28.005       10174   \n",
       " 4                                     Inception      27.920       22186   \n",
       " \n",
       "   original_language  \n",
       " 0                en  \n",
       " 1                en  \n",
       " 2                en  \n",
       " 3                en  \n",
       " 4                en  ,\n",
       "                                          title production_budget  \\\n",
       " 0                                       Avatar      $425,000,000   \n",
       " 1  Pirates of the Caribbean: On Stranger Tides      $410,600,000   \n",
       " 2                                 Dark Phoenix      $350,000,000   \n",
       " 3                      Avengers: Age of Ultron      $330,600,000   \n",
       " 4            Star Wars Ep. VIII: The Last Jedi      $317,000,000   \n",
       " \n",
       "   worldwide_gross domestic_gross  \n",
       " 0  $2,776,345,279   $760,507,625  \n",
       " 1  $1,045,663,875   $241,063,875  \n",
       " 2    $149,762,350    $42,762,350  \n",
       " 3  $1,403,013,963   $459,005,868  \n",
       " 4  $1,316,721,747   $620,181,382  )"
      ]
     },
     "execution_count": 854,
     "metadata": {},
     "output_type": "execute_result"
    }
   ],
   "source": [
    "# Renaming columns in bom and tn dataframes\n",
    "bom_selected = bom_selected.rename(columns={'foreign_gross': 'worldwide_gross'})\n",
    "tn_selected = tn_selected.rename(columns={'movie': 'title'})\n",
    "\n",
    "# Display the first few rows of the selected DataFrames\n",
    "bom_selected.head(), tmdb_selected.head(), tn_selected.head()"
   ]
  },
  {
   "cell_type": "markdown",
   "metadata": {},
   "source": [
    "## CLEANING THE DATASETS\n",
    "\n",
    "# 1. Bom dataframe"
   ]
  },
  {
   "cell_type": "markdown",
   "metadata": {},
   "source": [
    "Remove all Null Values that Read as 0"
   ]
  },
  {
   "cell_type": "code",
   "execution_count": 855,
   "metadata": {},
   "outputs": [
    {
     "data": {
      "text/html": [
       "<div>\n",
       "<style scoped>\n",
       "    .dataframe tbody tr th:only-of-type {\n",
       "        vertical-align: middle;\n",
       "    }\n",
       "\n",
       "    .dataframe tbody tr th {\n",
       "        vertical-align: top;\n",
       "    }\n",
       "\n",
       "    .dataframe thead th {\n",
       "        text-align: right;\n",
       "    }\n",
       "</style>\n",
       "<table border=\"1\" class=\"dataframe\">\n",
       "  <thead>\n",
       "    <tr style=\"text-align: right;\">\n",
       "      <th></th>\n",
       "      <th>title</th>\n",
       "      <th>studio</th>\n",
       "      <th>domestic_gross</th>\n",
       "      <th>foreign_gross</th>\n",
       "      <th>year</th>\n",
       "    </tr>\n",
       "  </thead>\n",
       "  <tbody>\n",
       "    <tr>\n",
       "      <th>0</th>\n",
       "      <td>Toy Story 3</td>\n",
       "      <td>BV</td>\n",
       "      <td>415000000.0</td>\n",
       "      <td>652000000</td>\n",
       "      <td>2010</td>\n",
       "    </tr>\n",
       "    <tr>\n",
       "      <th>1</th>\n",
       "      <td>Alice in Wonderland (2010)</td>\n",
       "      <td>BV</td>\n",
       "      <td>334200000.0</td>\n",
       "      <td>691300000</td>\n",
       "      <td>2010</td>\n",
       "    </tr>\n",
       "    <tr>\n",
       "      <th>2</th>\n",
       "      <td>Harry Potter and the Deathly Hallows Part 1</td>\n",
       "      <td>WB</td>\n",
       "      <td>296000000.0</td>\n",
       "      <td>664300000</td>\n",
       "      <td>2010</td>\n",
       "    </tr>\n",
       "    <tr>\n",
       "      <th>3</th>\n",
       "      <td>Inception</td>\n",
       "      <td>WB</td>\n",
       "      <td>292600000.0</td>\n",
       "      <td>535700000</td>\n",
       "      <td>2010</td>\n",
       "    </tr>\n",
       "    <tr>\n",
       "      <th>4</th>\n",
       "      <td>Shrek Forever After</td>\n",
       "      <td>P/DW</td>\n",
       "      <td>238700000.0</td>\n",
       "      <td>513900000</td>\n",
       "      <td>2010</td>\n",
       "    </tr>\n",
       "  </tbody>\n",
       "</table>\n",
       "</div>"
      ],
      "text/plain": [
       "                                         title studio  domestic_gross  \\\n",
       "0                                  Toy Story 3     BV     415000000.0   \n",
       "1                   Alice in Wonderland (2010)     BV     334200000.0   \n",
       "2  Harry Potter and the Deathly Hallows Part 1     WB     296000000.0   \n",
       "3                                    Inception     WB     292600000.0   \n",
       "4                          Shrek Forever After   P/DW     238700000.0   \n",
       "\n",
       "  foreign_gross  year  \n",
       "0     652000000  2010  \n",
       "1     691300000  2010  \n",
       "2     664300000  2010  \n",
       "3     535700000  2010  \n",
       "4     513900000  2010  "
      ]
     },
     "execution_count": 855,
     "metadata": {},
     "output_type": "execute_result"
    }
   ],
   "source": [
    "# Replace zeros with NaN in 'domestic_gross' and 'foreign_gross' columns\n",
    "bom_df['domestic_gross'] = bom_df['domestic_gross'].replace(0, pd.NA)\n",
    "bom_df['foreign_gross'] = bom_df['foreign_gross'].replace(0, pd.NA)\n",
    "\n",
    "# Drop rows with NaN values\n",
    "bom_df_cleaned = bom_df.dropna(subset=['domestic_gross', 'foreign_gross'])\n",
    "\n",
    "# Display the cleaned DataFrame\n",
    "bom_df_cleaned.head()"
   ]
  },
  {
   "cell_type": "markdown",
   "metadata": {},
   "source": [
    "Remove Commas from Numeric Values"
   ]
  },
  {
   "cell_type": "code",
   "execution_count": 856,
   "metadata": {},
   "outputs": [
    {
     "name": "stderr",
     "output_type": "stream",
     "text": [
      "<ipython-input-856-47a3c4b7aae7>:2: SettingWithCopyWarning: \n",
      "A value is trying to be set on a copy of a slice from a DataFrame.\n",
      "Try using .loc[row_indexer,col_indexer] = value instead\n",
      "\n",
      "See the caveats in the documentation: https://pandas.pydata.org/pandas-docs/stable/user_guide/indexing.html#returning-a-view-versus-a-copy\n",
      "  bom_df_cleaned['domestic_gross'] = bom_df_cleaned['domestic_gross'].replace('[,]', '', regex=True)\n",
      "<ipython-input-856-47a3c4b7aae7>:3: SettingWithCopyWarning: \n",
      "A value is trying to be set on a copy of a slice from a DataFrame.\n",
      "Try using .loc[row_indexer,col_indexer] = value instead\n",
      "\n",
      "See the caveats in the documentation: https://pandas.pydata.org/pandas-docs/stable/user_guide/indexing.html#returning-a-view-versus-a-copy\n",
      "  bom_df_cleaned['foreign_gross'] = bom_df_cleaned['foreign_gross'].replace('[,]', '', regex=True)\n"
     ]
    },
    {
     "data": {
      "text/html": [
       "<div>\n",
       "<style scoped>\n",
       "    .dataframe tbody tr th:only-of-type {\n",
       "        vertical-align: middle;\n",
       "    }\n",
       "\n",
       "    .dataframe tbody tr th {\n",
       "        vertical-align: top;\n",
       "    }\n",
       "\n",
       "    .dataframe thead th {\n",
       "        text-align: right;\n",
       "    }\n",
       "</style>\n",
       "<table border=\"1\" class=\"dataframe\">\n",
       "  <thead>\n",
       "    <tr style=\"text-align: right;\">\n",
       "      <th></th>\n",
       "      <th>title</th>\n",
       "      <th>studio</th>\n",
       "      <th>domestic_gross</th>\n",
       "      <th>foreign_gross</th>\n",
       "      <th>year</th>\n",
       "    </tr>\n",
       "  </thead>\n",
       "  <tbody>\n",
       "    <tr>\n",
       "      <th>0</th>\n",
       "      <td>Toy Story 3</td>\n",
       "      <td>BV</td>\n",
       "      <td>415000000.0</td>\n",
       "      <td>652000000</td>\n",
       "      <td>2010</td>\n",
       "    </tr>\n",
       "    <tr>\n",
       "      <th>1</th>\n",
       "      <td>Alice in Wonderland (2010)</td>\n",
       "      <td>BV</td>\n",
       "      <td>334200000.0</td>\n",
       "      <td>691300000</td>\n",
       "      <td>2010</td>\n",
       "    </tr>\n",
       "    <tr>\n",
       "      <th>2</th>\n",
       "      <td>Harry Potter and the Deathly Hallows Part 1</td>\n",
       "      <td>WB</td>\n",
       "      <td>296000000.0</td>\n",
       "      <td>664300000</td>\n",
       "      <td>2010</td>\n",
       "    </tr>\n",
       "    <tr>\n",
       "      <th>3</th>\n",
       "      <td>Inception</td>\n",
       "      <td>WB</td>\n",
       "      <td>292600000.0</td>\n",
       "      <td>535700000</td>\n",
       "      <td>2010</td>\n",
       "    </tr>\n",
       "    <tr>\n",
       "      <th>4</th>\n",
       "      <td>Shrek Forever After</td>\n",
       "      <td>P/DW</td>\n",
       "      <td>238700000.0</td>\n",
       "      <td>513900000</td>\n",
       "      <td>2010</td>\n",
       "    </tr>\n",
       "  </tbody>\n",
       "</table>\n",
       "</div>"
      ],
      "text/plain": [
       "                                         title studio  domestic_gross  \\\n",
       "0                                  Toy Story 3     BV     415000000.0   \n",
       "1                   Alice in Wonderland (2010)     BV     334200000.0   \n",
       "2  Harry Potter and the Deathly Hallows Part 1     WB     296000000.0   \n",
       "3                                    Inception     WB     292600000.0   \n",
       "4                          Shrek Forever After   P/DW     238700000.0   \n",
       "\n",
       "  foreign_gross  year  \n",
       "0     652000000  2010  \n",
       "1     691300000  2010  \n",
       "2     664300000  2010  \n",
       "3     535700000  2010  \n",
       "4     513900000  2010  "
      ]
     },
     "execution_count": 856,
     "metadata": {},
     "output_type": "execute_result"
    }
   ],
   "source": [
    "# Remove commas from 'domestic_gross' and 'foreign_gross' columns\n",
    "bom_df_cleaned['domestic_gross'] = bom_df_cleaned['domestic_gross'].replace('[,]', '', regex=True)\n",
    "bom_df_cleaned['foreign_gross'] = bom_df_cleaned['foreign_gross'].replace('[,]', '', regex=True)\n",
    "\n",
    "# Display the cleaned DataFrame\n",
    "bom_df_cleaned.head()\n"
   ]
  },
  {
   "cell_type": "markdown",
   "metadata": {},
   "source": [
    "Convert Numeric Values into Shorter Float Values"
   ]
  },
  {
   "cell_type": "code",
   "execution_count": 857,
   "metadata": {},
   "outputs": [
    {
     "name": "stderr",
     "output_type": "stream",
     "text": [
      "c:\\Users\\USER\\anaconda3\\envs\\learn-env\\lib\\site-packages\\pandas\\core\\indexing.py:1745: SettingWithCopyWarning: \n",
      "A value is trying to be set on a copy of a slice from a DataFrame.\n",
      "Try using .loc[row_indexer,col_indexer] = value instead\n",
      "\n",
      "See the caveats in the documentation: https://pandas.pydata.org/pandas-docs/stable/user_guide/indexing.html#returning-a-view-versus-a-copy\n",
      "  isetter(ilocs[0], value)\n"
     ]
    },
    {
     "data": {
      "text/html": [
       "<div>\n",
       "<style scoped>\n",
       "    .dataframe tbody tr th:only-of-type {\n",
       "        vertical-align: middle;\n",
       "    }\n",
       "\n",
       "    .dataframe tbody tr th {\n",
       "        vertical-align: top;\n",
       "    }\n",
       "\n",
       "    .dataframe thead th {\n",
       "        text-align: right;\n",
       "    }\n",
       "</style>\n",
       "<table border=\"1\" class=\"dataframe\">\n",
       "  <thead>\n",
       "    <tr style=\"text-align: right;\">\n",
       "      <th></th>\n",
       "      <th>title</th>\n",
       "      <th>studio</th>\n",
       "      <th>domestic_gross</th>\n",
       "      <th>foreign_gross</th>\n",
       "      <th>year</th>\n",
       "    </tr>\n",
       "  </thead>\n",
       "  <tbody>\n",
       "    <tr>\n",
       "      <th>0</th>\n",
       "      <td>Toy Story 3</td>\n",
       "      <td>BV</td>\n",
       "      <td>415000000.0</td>\n",
       "      <td>652000000.0</td>\n",
       "      <td>2010</td>\n",
       "    </tr>\n",
       "    <tr>\n",
       "      <th>1</th>\n",
       "      <td>Alice in Wonderland (2010)</td>\n",
       "      <td>BV</td>\n",
       "      <td>334200000.0</td>\n",
       "      <td>691300000.0</td>\n",
       "      <td>2010</td>\n",
       "    </tr>\n",
       "    <tr>\n",
       "      <th>2</th>\n",
       "      <td>Harry Potter and the Deathly Hallows Part 1</td>\n",
       "      <td>WB</td>\n",
       "      <td>296000000.0</td>\n",
       "      <td>664300000.0</td>\n",
       "      <td>2010</td>\n",
       "    </tr>\n",
       "    <tr>\n",
       "      <th>3</th>\n",
       "      <td>Inception</td>\n",
       "      <td>WB</td>\n",
       "      <td>292600000.0</td>\n",
       "      <td>535700000.0</td>\n",
       "      <td>2010</td>\n",
       "    </tr>\n",
       "    <tr>\n",
       "      <th>4</th>\n",
       "      <td>Shrek Forever After</td>\n",
       "      <td>P/DW</td>\n",
       "      <td>238700000.0</td>\n",
       "      <td>513900000.0</td>\n",
       "      <td>2010</td>\n",
       "    </tr>\n",
       "  </tbody>\n",
       "</table>\n",
       "</div>"
      ],
      "text/plain": [
       "                                         title studio  domestic_gross  \\\n",
       "0                                  Toy Story 3     BV     415000000.0   \n",
       "1                   Alice in Wonderland (2010)     BV     334200000.0   \n",
       "2  Harry Potter and the Deathly Hallows Part 1     WB     296000000.0   \n",
       "3                                    Inception     WB     292600000.0   \n",
       "4                          Shrek Forever After   P/DW     238700000.0   \n",
       "\n",
       "   foreign_gross  year  \n",
       "0    652000000.0  2010  \n",
       "1    691300000.0  2010  \n",
       "2    664300000.0  2010  \n",
       "3    535700000.0  2010  \n",
       "4    513900000.0  2010  "
      ]
     },
     "execution_count": 857,
     "metadata": {},
     "output_type": "execute_result"
    }
   ],
   "source": [
    "# Convert numeric columns to shorter float values using .loc\n",
    "bom_df_cleaned.loc[:, 'domestic_gross'] = bom_df_cleaned['domestic_gross'].astype(float).round(2)\n",
    "bom_df_cleaned.loc[:, 'foreign_gross'] = bom_df_cleaned['foreign_gross'].astype(float).round(2)\n",
    "\n",
    "# Display the cleaned DataFrame\n",
    "bom_df_cleaned.head()"
   ]
  },
  {
   "cell_type": "markdown",
   "metadata": {},
   "source": [
    "# 2. TMDB dataframe"
   ]
  },
  {
   "cell_type": "markdown",
   "metadata": {},
   "source": [
    "Remove Rows with Null or Zero Values"
   ]
  },
  {
   "cell_type": "code",
   "execution_count": 858,
   "metadata": {},
   "outputs": [
    {
     "name": "stdout",
     "output_type": "stream",
     "text": [
      "                                          title  popularity  vote_count  \\\n",
      "0  Harry Potter and the Deathly Hallows: Part 1      33.533       10788   \n",
      "1                      How to Train Your Dragon      28.734        7610   \n",
      "2                                    Iron Man 2      28.515       12368   \n",
      "3                                     Toy Story      28.005       10174   \n",
      "4                                     Inception      27.920       22186   \n",
      "\n",
      "  original_language  \n",
      "0                en  \n",
      "1                en  \n",
      "2                en  \n",
      "3                en  \n",
      "4                en  \n"
     ]
    },
    {
     "name": "stderr",
     "output_type": "stream",
     "text": [
      "<ipython-input-858-69f57a27db67>:2: SettingWithCopyWarning: \n",
      "A value is trying to be set on a copy of a slice from a DataFrame.\n",
      "Try using .loc[row_indexer,col_indexer] = value instead\n",
      "\n",
      "See the caveats in the documentation: https://pandas.pydata.org/pandas-docs/stable/user_guide/indexing.html#returning-a-view-versus-a-copy\n",
      "  tmdb_selected['popularity'] = tmdb_selected['popularity'].replace(0, pd.NA)\n",
      "<ipython-input-858-69f57a27db67>:3: SettingWithCopyWarning: \n",
      "A value is trying to be set on a copy of a slice from a DataFrame.\n",
      "Try using .loc[row_indexer,col_indexer] = value instead\n",
      "\n",
      "See the caveats in the documentation: https://pandas.pydata.org/pandas-docs/stable/user_guide/indexing.html#returning-a-view-versus-a-copy\n",
      "  tmdb_selected['vote_count'] = tmdb_selected['vote_count'].replace(0, pd.NA)\n"
     ]
    }
   ],
   "source": [
    "# Replace zeros with NaN in 'popularity' and 'vote_count' columns\n",
    "tmdb_selected['popularity'] = tmdb_selected['popularity'].replace(0, pd.NA)\n",
    "tmdb_selected['vote_count'] = tmdb_selected['vote_count'].replace(0, pd.NA)\n",
    "\n",
    "# Drop rows with NaN values\n",
    "tmdb_cleaned = tmdb_selected.dropna(subset=['title', 'popularity', 'vote_count', 'original_language'])\n",
    "\n",
    "# Display the DataFrame after dropping rows with NaN values\n",
    "print(tmdb_cleaned.head())"
   ]
  },
  {
   "cell_type": "markdown",
   "metadata": {},
   "source": [
    "Remove Commas from Numeric Values"
   ]
  },
  {
   "cell_type": "code",
   "execution_count": 859,
   "metadata": {},
   "outputs": [
    {
     "name": "stdout",
     "output_type": "stream",
     "text": [
      "                                          title  popularity  vote_count  \\\n",
      "0  Harry Potter and the Deathly Hallows: Part 1      33.533       10788   \n",
      "1                      How to Train Your Dragon      28.734        7610   \n",
      "2                                    Iron Man 2      28.515       12368   \n",
      "3                                     Toy Story      28.005       10174   \n",
      "4                                     Inception      27.920       22186   \n",
      "\n",
      "  original_language  \n",
      "0                en  \n",
      "1                en  \n",
      "2                en  \n",
      "3                en  \n",
      "4                en  \n"
     ]
    }
   ],
   "source": [
    "# Remove commas from 'popularity' and 'vote_count' columns\n",
    "tmdb_cleaned['popularity'] = tmdb_cleaned['popularity'].replace('[,]', '', regex=True)\n",
    "tmdb_cleaned['vote_count'] = tmdb_cleaned['vote_count'].replace('[,]', '', regex=True)\n",
    "\n",
    "# Display the DataFrame after removing commas\n",
    "print(tmdb_cleaned.head())\n"
   ]
  },
  {
   "cell_type": "markdown",
   "metadata": {},
   "source": [
    "Convert Numeric Values into Shorter Float Values"
   ]
  },
  {
   "cell_type": "code",
   "execution_count": 860,
   "metadata": {},
   "outputs": [
    {
     "name": "stdout",
     "output_type": "stream",
     "text": [
      "                                          title  popularity  vote_count  \\\n",
      "0  Harry Potter and the Deathly Hallows: Part 1       33.53     10788.0   \n",
      "1                      How to Train Your Dragon       28.73      7610.0   \n",
      "2                                    Iron Man 2       28.52     12368.0   \n",
      "3                                     Toy Story       28.00     10174.0   \n",
      "4                                     Inception       27.92     22186.0   \n",
      "\n",
      "  original_language  \n",
      "0                en  \n",
      "1                en  \n",
      "2                en  \n",
      "3                en  \n",
      "4                en  \n"
     ]
    }
   ],
   "source": [
    "# Convert numeric columns to shorter float values\n",
    "tmdb_cleaned.loc[:, 'popularity'] = tmdb_cleaned['popularity'].astype(float).round(2)\n",
    "tmdb_cleaned.loc[:, 'vote_count'] = tmdb_cleaned['vote_count'].astype(float).round(2)\n",
    "\n",
    "# Display the final cleaned DataFrame\n",
    "print(tmdb_cleaned.head())"
   ]
  },
  {
   "cell_type": "markdown",
   "metadata": {},
   "source": [
    "# 3. TN dataframe"
   ]
  },
  {
   "cell_type": "markdown",
   "metadata": {},
   "source": [
    "Removing null values that read as 0"
   ]
  },
  {
   "cell_type": "code",
   "execution_count": 861,
   "metadata": {},
   "outputs": [
    {
     "data": {
      "text/html": [
       "<div>\n",
       "<style scoped>\n",
       "    .dataframe tbody tr th:only-of-type {\n",
       "        vertical-align: middle;\n",
       "    }\n",
       "\n",
       "    .dataframe tbody tr th {\n",
       "        vertical-align: top;\n",
       "    }\n",
       "\n",
       "    .dataframe thead th {\n",
       "        text-align: right;\n",
       "    }\n",
       "</style>\n",
       "<table border=\"1\" class=\"dataframe\">\n",
       "  <thead>\n",
       "    <tr style=\"text-align: right;\">\n",
       "      <th></th>\n",
       "      <th>id</th>\n",
       "      <th>release_date</th>\n",
       "      <th>movie</th>\n",
       "      <th>production_budget</th>\n",
       "      <th>domestic_gross</th>\n",
       "      <th>worldwide_gross</th>\n",
       "    </tr>\n",
       "  </thead>\n",
       "  <tbody>\n",
       "    <tr>\n",
       "      <th>0</th>\n",
       "      <td>1</td>\n",
       "      <td>Dec 18, 2009</td>\n",
       "      <td>Avatar</td>\n",
       "      <td>425000000.0</td>\n",
       "      <td>760507625.0</td>\n",
       "      <td>2.776345e+09</td>\n",
       "    </tr>\n",
       "    <tr>\n",
       "      <th>1</th>\n",
       "      <td>2</td>\n",
       "      <td>May 20, 2011</td>\n",
       "      <td>Pirates of the Caribbean: On Stranger Tides</td>\n",
       "      <td>410600000.0</td>\n",
       "      <td>241063875.0</td>\n",
       "      <td>1.045664e+09</td>\n",
       "    </tr>\n",
       "    <tr>\n",
       "      <th>2</th>\n",
       "      <td>3</td>\n",
       "      <td>Jun 7, 2019</td>\n",
       "      <td>Dark Phoenix</td>\n",
       "      <td>350000000.0</td>\n",
       "      <td>42762350.0</td>\n",
       "      <td>1.497624e+08</td>\n",
       "    </tr>\n",
       "    <tr>\n",
       "      <th>3</th>\n",
       "      <td>4</td>\n",
       "      <td>May 1, 2015</td>\n",
       "      <td>Avengers: Age of Ultron</td>\n",
       "      <td>330600000.0</td>\n",
       "      <td>459005868.0</td>\n",
       "      <td>1.403014e+09</td>\n",
       "    </tr>\n",
       "    <tr>\n",
       "      <th>4</th>\n",
       "      <td>5</td>\n",
       "      <td>Dec 15, 2017</td>\n",
       "      <td>Star Wars Ep. VIII: The Last Jedi</td>\n",
       "      <td>317000000.0</td>\n",
       "      <td>620181382.0</td>\n",
       "      <td>1.316722e+09</td>\n",
       "    </tr>\n",
       "  </tbody>\n",
       "</table>\n",
       "</div>"
      ],
      "text/plain": [
       "   id  release_date                                        movie  \\\n",
       "0   1  Dec 18, 2009                                       Avatar   \n",
       "1   2  May 20, 2011  Pirates of the Caribbean: On Stranger Tides   \n",
       "2   3   Jun 7, 2019                                 Dark Phoenix   \n",
       "3   4   May 1, 2015                      Avengers: Age of Ultron   \n",
       "4   5  Dec 15, 2017            Star Wars Ep. VIII: The Last Jedi   \n",
       "\n",
       "   production_budget  domestic_gross  worldwide_gross  \n",
       "0        425000000.0     760507625.0     2.776345e+09  \n",
       "1        410600000.0     241063875.0     1.045664e+09  \n",
       "2        350000000.0      42762350.0     1.497624e+08  \n",
       "3        330600000.0     459005868.0     1.403014e+09  \n",
       "4        317000000.0     620181382.0     1.316722e+09  "
      ]
     },
     "execution_count": 861,
     "metadata": {},
     "output_type": "execute_result"
    }
   ],
   "source": [
    "# Clean the 'production_budget', 'domestic_gross', and 'worldwide_gross' columns\n",
    "tn_df['production_budget'] = tn_df['production_budget'].replace('[\\$,]', '', regex=True).astype(float)\n",
    "tn_df['domestic_gross'] = tn_df['domestic_gross'].replace('[\\$,]', '', regex=True).astype(float)\n",
    "tn_df['worldwide_gross'] = tn_df['worldwide_gross'].replace('[\\$,]', '', regex=True).astype(float)\n",
    "\n",
    "# Replace zeros with NaN\n",
    "tn_df['production_budget'] = tn_df['production_budget'].replace(0, pd.NA)\n",
    "tn_df['domestic_gross'] = tn_df['domestic_gross'].replace(0, pd.NA)\n",
    "tn_df['worldwide_gross'] = tn_df['worldwide_gross'].replace(0, pd.NA)\n",
    "\n",
    "# Drop rows with NaN values\n",
    "tn_df_cleaned = tn_df.dropna(subset=['production_budget', 'domestic_gross', 'worldwide_gross'])\n",
    "\n",
    "# Display the cleaned DataFrame\n",
    "tn_df_cleaned.head()\n"
   ]
  },
  {
   "cell_type": "markdown",
   "metadata": {},
   "source": [
    "Removing commas from numeric values"
   ]
  },
  {
   "cell_type": "code",
   "execution_count": 862,
   "metadata": {},
   "outputs": [
    {
     "name": "stdout",
     "output_type": "stream",
     "text": [
      "   id  release_date                                        movie  \\\n",
      "0   1  Dec 18, 2009                                       Avatar   \n",
      "1   2  May 20, 2011  Pirates of the Caribbean: On Stranger Tides   \n",
      "2   3   Jun 7, 2019                                 Dark Phoenix   \n",
      "3   4   May 1, 2015                      Avengers: Age of Ultron   \n",
      "4   5  Dec 15, 2017            Star Wars Ep. VIII: The Last Jedi   \n",
      "\n",
      "   production_budget  domestic_gross  worldwide_gross  \n",
      "0        425000000.0     760507625.0     2.776345e+09  \n",
      "1        410600000.0     241063875.0     1.045664e+09  \n",
      "2        350000000.0      42762350.0     1.497624e+08  \n",
      "3        330600000.0     459005868.0     1.403014e+09  \n",
      "4        317000000.0     620181382.0     1.316722e+09  \n"
     ]
    },
    {
     "name": "stderr",
     "output_type": "stream",
     "text": [
      "c:\\Users\\USER\\anaconda3\\envs\\learn-env\\lib\\site-packages\\pandas\\core\\indexing.py:1745: SettingWithCopyWarning: \n",
      "A value is trying to be set on a copy of a slice from a DataFrame.\n",
      "Try using .loc[row_indexer,col_indexer] = value instead\n",
      "\n",
      "See the caveats in the documentation: https://pandas.pydata.org/pandas-docs/stable/user_guide/indexing.html#returning-a-view-versus-a-copy\n",
      "  isetter(ilocs[0], value)\n"
     ]
    }
   ],
   "source": [
    "# Remove commas from 'production_budget', 'domestic_gross', and 'worldwide_gross' columns\n",
    "tn_df_cleaned.loc[:, 'production_budget'] = tn_df_cleaned['production_budget'].replace('[,]', '', regex=True)\n",
    "tn_df_cleaned.loc[:, 'domestic_gross'] = tn_df_cleaned['domestic_gross'].replace('[,]', '', regex=True)\n",
    "tn_df_cleaned.loc[:, 'worldwide_gross'] = tn_df_cleaned['worldwide_gross'].replace('[,]', '', regex=True)\n",
    "\n",
    "# Display the cleaned DataFrame\n",
    "print(tn_df_cleaned.head())"
   ]
  },
  {
   "cell_type": "markdown",
   "metadata": {},
   "source": [
    "Convert Numeric Values into Shorter Float Values"
   ]
  },
  {
   "cell_type": "code",
   "execution_count": 863,
   "metadata": {},
   "outputs": [
    {
     "name": "stderr",
     "output_type": "stream",
     "text": [
      "c:\\Users\\USER\\anaconda3\\envs\\learn-env\\lib\\site-packages\\pandas\\core\\indexing.py:1745: SettingWithCopyWarning: \n",
      "A value is trying to be set on a copy of a slice from a DataFrame.\n",
      "Try using .loc[row_indexer,col_indexer] = value instead\n",
      "\n",
      "See the caveats in the documentation: https://pandas.pydata.org/pandas-docs/stable/user_guide/indexing.html#returning-a-view-versus-a-copy\n",
      "  isetter(ilocs[0], value)\n"
     ]
    },
    {
     "data": {
      "text/html": [
       "<div>\n",
       "<style scoped>\n",
       "    .dataframe tbody tr th:only-of-type {\n",
       "        vertical-align: middle;\n",
       "    }\n",
       "\n",
       "    .dataframe tbody tr th {\n",
       "        vertical-align: top;\n",
       "    }\n",
       "\n",
       "    .dataframe thead th {\n",
       "        text-align: right;\n",
       "    }\n",
       "</style>\n",
       "<table border=\"1\" class=\"dataframe\">\n",
       "  <thead>\n",
       "    <tr style=\"text-align: right;\">\n",
       "      <th></th>\n",
       "      <th>id</th>\n",
       "      <th>release_date</th>\n",
       "      <th>movie</th>\n",
       "      <th>production_budget</th>\n",
       "      <th>domestic_gross</th>\n",
       "      <th>worldwide_gross</th>\n",
       "    </tr>\n",
       "  </thead>\n",
       "  <tbody>\n",
       "    <tr>\n",
       "      <th>0</th>\n",
       "      <td>1</td>\n",
       "      <td>Dec 18, 2009</td>\n",
       "      <td>Avatar</td>\n",
       "      <td>425000000.0</td>\n",
       "      <td>760507625.0</td>\n",
       "      <td>2.776345e+09</td>\n",
       "    </tr>\n",
       "    <tr>\n",
       "      <th>1</th>\n",
       "      <td>2</td>\n",
       "      <td>May 20, 2011</td>\n",
       "      <td>Pirates of the Caribbean: On Stranger Tides</td>\n",
       "      <td>410600000.0</td>\n",
       "      <td>241063875.0</td>\n",
       "      <td>1.045664e+09</td>\n",
       "    </tr>\n",
       "    <tr>\n",
       "      <th>2</th>\n",
       "      <td>3</td>\n",
       "      <td>Jun 7, 2019</td>\n",
       "      <td>Dark Phoenix</td>\n",
       "      <td>350000000.0</td>\n",
       "      <td>42762350.0</td>\n",
       "      <td>1.497624e+08</td>\n",
       "    </tr>\n",
       "    <tr>\n",
       "      <th>3</th>\n",
       "      <td>4</td>\n",
       "      <td>May 1, 2015</td>\n",
       "      <td>Avengers: Age of Ultron</td>\n",
       "      <td>330600000.0</td>\n",
       "      <td>459005868.0</td>\n",
       "      <td>1.403014e+09</td>\n",
       "    </tr>\n",
       "    <tr>\n",
       "      <th>4</th>\n",
       "      <td>5</td>\n",
       "      <td>Dec 15, 2017</td>\n",
       "      <td>Star Wars Ep. VIII: The Last Jedi</td>\n",
       "      <td>317000000.0</td>\n",
       "      <td>620181382.0</td>\n",
       "      <td>1.316722e+09</td>\n",
       "    </tr>\n",
       "  </tbody>\n",
       "</table>\n",
       "</div>"
      ],
      "text/plain": [
       "   id  release_date                                        movie  \\\n",
       "0   1  Dec 18, 2009                                       Avatar   \n",
       "1   2  May 20, 2011  Pirates of the Caribbean: On Stranger Tides   \n",
       "2   3   Jun 7, 2019                                 Dark Phoenix   \n",
       "3   4   May 1, 2015                      Avengers: Age of Ultron   \n",
       "4   5  Dec 15, 2017            Star Wars Ep. VIII: The Last Jedi   \n",
       "\n",
       "   production_budget  domestic_gross  worldwide_gross  \n",
       "0        425000000.0     760507625.0     2.776345e+09  \n",
       "1        410600000.0     241063875.0     1.045664e+09  \n",
       "2        350000000.0      42762350.0     1.497624e+08  \n",
       "3        330600000.0     459005868.0     1.403014e+09  \n",
       "4        317000000.0     620181382.0     1.316722e+09  "
      ]
     },
     "execution_count": 863,
     "metadata": {},
     "output_type": "execute_result"
    }
   ],
   "source": [
    "# Convert numeric columns to shorter float values using .loc\n",
    "tn_df_cleaned.loc[:, 'production_budget'] = tn_df_cleaned['production_budget'].astype(float).round(2)\n",
    "tn_df_cleaned.loc[:, 'domestic_gross'] = tn_df_cleaned['domestic_gross'].astype(float).round(2)\n",
    "tn_df_cleaned.loc[:, 'worldwide_gross'] = tn_df_cleaned['worldwide_gross'].astype(float).round(2)\n",
    "\n",
    "# Display the cleaned DataFrame\n",
    "tn_df_cleaned.head()\n"
   ]
  },
  {
   "cell_type": "markdown",
   "metadata": {},
   "source": [
    "# Merging the cleaned data"
   ]
  },
  {
   "cell_type": "markdown",
   "metadata": {},
   "source": [
    "Importing necessary libraries"
   ]
  },
  {
   "cell_type": "code",
   "execution_count": 864,
   "metadata": {},
   "outputs": [],
   "source": [
    "# Import necessary libraries\n",
    "import sqlite3\n",
    "from sqlalchemy import create_engine\n",
    "\n",
    "# Create a SQLite database\n",
    "conn = sqlite3.connect(\"bom.db\")\n",
    "cursor = conn.cursor()\n",
    "\n",
    "# Create tables\n",
    "bom_selected.to_sql('bom', conn, if_exists='replace', index=False)\n",
    "tn_selected.to_sql('tn', conn, if_exists='replace', index=False)\n"
   ]
  },
  {
   "cell_type": "markdown",
   "metadata": {},
   "source": [
    "Here, we are merging the two tables that are bom_df anf tn_df"
   ]
  },
  {
   "cell_type": "code",
   "execution_count": 865,
   "metadata": {},
   "outputs": [
    {
     "data": {
      "text/html": [
       "<div>\n",
       "<style scoped>\n",
       "    .dataframe tbody tr th:only-of-type {\n",
       "        vertical-align: middle;\n",
       "    }\n",
       "\n",
       "    .dataframe tbody tr th {\n",
       "        vertical-align: top;\n",
       "    }\n",
       "\n",
       "    .dataframe thead th {\n",
       "        text-align: right;\n",
       "    }\n",
       "</style>\n",
       "<table border=\"1\" class=\"dataframe\">\n",
       "  <thead>\n",
       "    <tr style=\"text-align: right;\">\n",
       "      <th></th>\n",
       "      <th>title</th>\n",
       "      <th>studio</th>\n",
       "      <th>domestic_gross_bom</th>\n",
       "      <th>worldwide_gross</th>\n",
       "      <th>production_budget</th>\n",
       "      <th>domestic_gross_tn</th>\n",
       "      <th>worldwide_gross</th>\n",
       "    </tr>\n",
       "  </thead>\n",
       "  <tbody>\n",
       "    <tr>\n",
       "      <th>0</th>\n",
       "      <td>Toy Story 3</td>\n",
       "      <td>BV</td>\n",
       "      <td>415000000.0</td>\n",
       "      <td>652000000</td>\n",
       "      <td>$200,000,000</td>\n",
       "      <td>$415,004,880</td>\n",
       "      <td>$1,068,879,522</td>\n",
       "    </tr>\n",
       "    <tr>\n",
       "      <th>1</th>\n",
       "      <td>Inception</td>\n",
       "      <td>WB</td>\n",
       "      <td>292600000.0</td>\n",
       "      <td>535700000</td>\n",
       "      <td>$160,000,000</td>\n",
       "      <td>$292,576,195</td>\n",
       "      <td>$835,524,642</td>\n",
       "    </tr>\n",
       "    <tr>\n",
       "      <th>2</th>\n",
       "      <td>Shrek Forever After</td>\n",
       "      <td>P/DW</td>\n",
       "      <td>238700000.0</td>\n",
       "      <td>513900000</td>\n",
       "      <td>$165,000,000</td>\n",
       "      <td>$238,736,787</td>\n",
       "      <td>$756,244,673</td>\n",
       "    </tr>\n",
       "    <tr>\n",
       "      <th>3</th>\n",
       "      <td>The Twilight Saga: Eclipse</td>\n",
       "      <td>Sum.</td>\n",
       "      <td>300500000.0</td>\n",
       "      <td>398000000</td>\n",
       "      <td>$68,000,000</td>\n",
       "      <td>$300,531,751</td>\n",
       "      <td>$706,102,828</td>\n",
       "    </tr>\n",
       "    <tr>\n",
       "      <th>4</th>\n",
       "      <td>Iron Man 2</td>\n",
       "      <td>Par.</td>\n",
       "      <td>312400000.0</td>\n",
       "      <td>311500000</td>\n",
       "      <td>$170,000,000</td>\n",
       "      <td>$312,433,331</td>\n",
       "      <td>$621,156,389</td>\n",
       "    </tr>\n",
       "  </tbody>\n",
       "</table>\n",
       "</div>"
      ],
      "text/plain": [
       "                        title studio  domestic_gross_bom worldwide_gross  \\\n",
       "0                 Toy Story 3     BV         415000000.0       652000000   \n",
       "1                   Inception     WB         292600000.0       535700000   \n",
       "2         Shrek Forever After   P/DW         238700000.0       513900000   \n",
       "3  The Twilight Saga: Eclipse   Sum.         300500000.0       398000000   \n",
       "4                  Iron Man 2   Par.         312400000.0       311500000   \n",
       "\n",
       "  production_budget domestic_gross_tn worldwide_gross  \n",
       "0      $200,000,000      $415,004,880  $1,068,879,522  \n",
       "1      $160,000,000      $292,576,195    $835,524,642  \n",
       "2      $165,000,000      $238,736,787    $756,244,673  \n",
       "3       $68,000,000      $300,531,751    $706,102,828  \n",
       "4      $170,000,000      $312,433,331    $621,156,389  "
      ]
     },
     "execution_count": 865,
     "metadata": {},
     "output_type": "execute_result"
    }
   ],
   "source": [
    "# Merge the data using SQL\n",
    "query = \"\"\"\n",
    "SELECT\n",
    "    bom.title,\n",
    "    bom.studio,\n",
    "    bom.domestic_gross AS domestic_gross_bom,\n",
    "    bom.worldwide_gross,\n",
    "    tn.production_budget,\n",
    "    tn.domestic_gross AS domestic_gross_tn,\n",
    "    tn.worldwide_gross\n",
    "FROM\n",
    "    bom\n",
    "JOIN\n",
    "    tn\n",
    "ON\n",
    "    bom.title = tn.title\n",
    "\"\"\"\n",
    "\n",
    "merged_df = pd.read_sql_query(query, conn)\n",
    "\n",
    "# Display the merged DataFrame\n",
    "merged_df.head()\n"
   ]
  },
  {
   "cell_type": "code",
   "execution_count": 866,
   "metadata": {},
   "outputs": [],
   "source": [
    "# Create a database connection (example for SQLite)\n",
    "engine = create_engine('sqlite:///your_database.db')  # Replace with your database URL\n",
    "conn = engine.connect()\n",
    "\n",
    "# SQL query with the third dataset included\n",
    "query = \"\"\"\n",
    "SELECT\n",
    "    bom.title,\n",
    "    bom.studio,\n",
    "    bom.domestic_gross AS domestic_gross_bom,\n",
    "    bom.worldwide_gross AS bom_worldwide_gross,\n",
    "    tn.production_budget,\n",
    "    tn.domestic_gross AS domestic_gross_tn,\n",
    "    tn.worldwide_gross AS tn_worldwide_gross,\n",
    "    tmdb.popularity,\n",
    "    tmdb.vote_count,\n",
    "    tmdb.original_language\n",
    "FROM\n",
    "    bom\n",
    "JOIN\n",
    "    tn\n",
    "ON\n",
    "    bom.title = tn.title\n",
    "LEFT JOIN\n",
    "    tmdb_df AS tmdb\n",
    "ON\n",
    "    bom.title = tmdb.title\n",
    "\"\"\""
   ]
  },
  {
   "cell_type": "code",
   "execution_count": 867,
   "metadata": {},
   "outputs": [],
   "source": [
    "# SQL query with the third dataset included\n",
    "query = \"\"\"\n",
    "SELECT\n",
    "    bom.title,\n",
    "    bom.studio,\n",
    "    bom.domestic_gross AS domestic_gross_bom,\n",
    "    bom.worldwide_gross AS bom_worldwide_gross,\n",
    "    tn.production_budget,\n",
    "    tn.domestic_gross AS domestic_gross_tn,\n",
    "    tn.worldwide_gross AS tn_worldwide_gross,\n",
    "    tmdb.popularity,\n",
    "    tmdb.vote_count,\n",
    "    tmdb.original_language\n",
    "FROM\n",
    "    bom\n",
    "JOIN\n",
    "    tn\n",
    "ON\n",
    "    bom.title = tn.title\n",
    "JOIN\n",
    "    tmdb_df AS tmdb\n",
    "ON\n",
    "    bom.title = tmdb.title\n",
    "\"\"\"\n"
   ]
  },
  {
   "cell_type": "code",
   "execution_count": 868,
   "metadata": {},
   "outputs": [
    {
     "name": "stdout",
     "output_type": "stream",
     "text": [
      "                        title studio  domestic_gross_bom worldwide_gross  \\\n",
      "0                 Toy Story 3     BV         415000000.0       652000000   \n",
      "1                   Inception     WB         292600000.0       535700000   \n",
      "2         Shrek Forever After   P/DW         238700000.0       513900000   \n",
      "3  The Twilight Saga: Eclipse   Sum.         300500000.0       398000000   \n",
      "4                  Iron Man 2   Par.         312400000.0       311500000   \n",
      "\n",
      "  production_budget domestic_gross_tn worldwide_gross  \n",
      "0      $200,000,000      $415,004,880  $1,068,879,522  \n",
      "1      $160,000,000      $292,576,195    $835,524,642  \n",
      "2      $165,000,000      $238,736,787    $756,244,673  \n",
      "3       $68,000,000      $300,531,751    $706,102,828  \n",
      "4      $170,000,000      $312,433,331    $621,156,389  \n"
     ]
    }
   ],
   "source": [
    "print(merged_df.head())"
   ]
  },
  {
   "cell_type": "markdown",
   "metadata": {},
   "source": [
    "## Conclusion\n",
    "\n",
    "This project will provide a data-driven foundation for the new movie studio, offering strategic insights into the types of films that are likely to succeed in the competitive entertainment landscape. By aligning production efforts with proven trends and audience preferences, the studio can increase its chances of creating successful and profitable content.\n"
   ]
  }
 ],
 "metadata": {
  "kernelspec": {
   "display_name": "Python 3",
   "language": "python",
   "name": "python3"
  },
  "language_info": {
   "codemirror_mode": {
    "name": "ipython",
    "version": 3
   },
   "file_extension": ".py",
   "mimetype": "text/x-python",
   "name": "python",
   "nbconvert_exporter": "python",
   "pygments_lexer": "ipython3",
   "version": "3.8.5"
  }
 },
 "nbformat": 4,
 "nbformat_minor": 2
}
